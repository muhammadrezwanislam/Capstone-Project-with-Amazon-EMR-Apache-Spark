{
  "nbformat": 4,
  "nbformat_minor": 0,
  "metadata": {
    "colab": {
      "name": "Nanodegree Capstone Project.ipynb",
      "provenance": [],
      "collapsed_sections": []
    },
    "kernelspec": {
      "name": "python3",
      "display_name": "Python 3"
    },
    "language_info": {
      "name": "python"
    }
  },
  "cells": [
    {
      "cell_type": "code",
      "metadata": {
        "colab": {
          "base_uri": "https://localhost:8080/"
        },
        "id": "YpJYjI-bt0Zz",
        "outputId": "dba926ec-de52-4d72-a298-42be3151d642"
      },
      "source": [
        "#download java \n",
        "!apt-get install openjdk-8-jdk-headless -qq > /dev/null\n",
        "# download Apache Spark 3.0.2 with Hadoop 2.7 #check this link to download the latest spark version: https://downloads.apache.org/spark/spark-3.1.2/\n",
        "#Note – At the time of writing this article, 3.0.2 was the latest version of Apache Spark. But Spark is developing quite rapidly. So, if there is a newer version of Spark when you are executing this code, then you just need to replace 3.0.2, wherever you see it, with the latest version.\n",
        "!wget -q https://downloads.apache.org/spark/spark-3.1.2/spark-3.1.2-bin-hadoop2.7.tgz\n",
        "#check the content \n",
        "!ls"
      ],
      "execution_count": null,
      "outputs": [
        {
          "output_type": "stream",
          "text": [
            "sample_data  spark-3.1.2-bin-hadoop2.7.tgz\n"
          ],
          "name": "stdout"
        }
      ]
    },
    {
      "cell_type": "code",
      "metadata": {
        "id": "nPIG7hJut2lF"
      },
      "source": [
        "#unzip the folder \n",
        "!tar xf spark-3.1.2-bin-hadoop2.7.tgz\n",
        "# install pyspark library.  It will locate Spark on the system and import it as a regular library.\n",
        "!pip install -q findspark\n",
        "#set the environment path\n",
        "import os\n",
        "os.environ[\"JAVA_HOME\"] = \"/usr/lib/jvm/java-8-openjdk-amd64\"\n",
        "os.environ[\"SPARK_HOME\"] = \"/content/spark-3.1.2-bin-hadoop2.7\"\n",
        "# locate Spark in the system\n",
        "import findspark\n",
        "findspark.init()"
      ],
      "execution_count": null,
      "outputs": []
    },
    {
      "cell_type": "code",
      "metadata": {
        "colab": {
          "base_uri": "https://localhost:8080/",
          "height": 35
        },
        "id": "ACoejFbVuBkU",
        "outputId": "89a5d100-e0a5-40c3-f5dc-fc887fe972a3"
      },
      "source": [
        "#location of the install spark file\n",
        "findspark.find()"
      ],
      "execution_count": null,
      "outputs": [
        {
          "output_type": "execute_result",
          "data": {
            "application/vnd.google.colaboratory.intrinsic+json": {
              "type": "string"
            },
            "text/plain": [
              "'/content/spark-3.1.2-bin-hadoop2.7'"
            ]
          },
          "metadata": {
            "tags": []
          },
          "execution_count": 3
        }
      ]
    },
    {
      "cell_type": "code",
      "metadata": {
        "id": "7frCXhvfu1sb"
      },
      "source": [
        "#create a spark session \n",
        "from pyspark.sql import SparkSession\n",
        "spark = SparkSession.builder\\\n",
        "        .master(\"local\")\\\n",
        "        .appName(\"Colab\")\\\n",
        "        .config('spark.ui.port', '4050')\\\n",
        "        .getOrCreate()\n",
        "spark.conf.set(\"mapreduce.fileoutputcommitter.algorithm.version\", \"2\")\n"
      ],
      "execution_count": null,
      "outputs": []
    },
    {
      "cell_type": "code",
      "metadata": {
        "colab": {
          "base_uri": "https://localhost:8080/",
          "height": 216
        },
        "id": "roTv1PPovC_s",
        "outputId": "2eccc261-f20e-4c92-99eb-32e13cd2aa1d"
      },
      "source": [
        "#print the spark session variable \n",
        "spark"
      ],
      "execution_count": null,
      "outputs": [
        {
          "output_type": "execute_result",
          "data": {
            "text/html": [
              "\n",
              "            <div>\n",
              "                <p><b>SparkSession - in-memory</b></p>\n",
              "                \n",
              "        <div>\n",
              "            <p><b>SparkContext</b></p>\n",
              "\n",
              "            <p><a href=\"http://5d41b6f343c7:4050\">Spark UI</a></p>\n",
              "\n",
              "            <dl>\n",
              "              <dt>Version</dt>\n",
              "                <dd><code>v3.1.2</code></dd>\n",
              "              <dt>Master</dt>\n",
              "                <dd><code>local</code></dd>\n",
              "              <dt>AppName</dt>\n",
              "                <dd><code>Colab</code></dd>\n",
              "            </dl>\n",
              "        </div>\n",
              "        \n",
              "            </div>\n",
              "        "
            ],
            "text/plain": [
              "<pyspark.sql.session.SparkSession at 0x7fd4f0e6fc10>"
            ]
          },
          "metadata": {
            "tags": []
          },
          "execution_count": 8
        }
      ]
    },
    {
      "cell_type": "code",
      "metadata": {
        "colab": {
          "base_uri": "https://localhost:8080/"
        },
        "id": "AIk5EiThvF88",
        "outputId": "70c84e4b-ea73-4cd6-cfd3-c9ce305d50cd"
      },
      "source": [
        "!wget https://bin.equinox.io/c/4VmDzA7iaHb/ngrok-stable-linux-amd64.zip"
      ],
      "execution_count": null,
      "outputs": [
        {
          "output_type": "stream",
          "text": [
            "--2021-08-17 15:24:05--  https://bin.equinox.io/c/4VmDzA7iaHb/ngrok-stable-linux-amd64.zip\n",
            "Resolving bin.equinox.io (bin.equinox.io)... 50.16.95.25, 52.44.51.219, 52.4.53.8, ...\n",
            "Connecting to bin.equinox.io (bin.equinox.io)|50.16.95.25|:443... connected.\n",
            "HTTP request sent, awaiting response... 200 OK\n",
            "Length: 13832437 (13M) [application/octet-stream]\n",
            "Saving to: ‘ngrok-stable-linux-amd64.zip.1’\n",
            "\n",
            "ngrok-stable-linux- 100%[===================>]  13.19M  53.6MB/s    in 0.2s    \n",
            "\n",
            "2021-08-17 15:24:05 (53.6 MB/s) - ‘ngrok-stable-linux-amd64.zip.1’ saved [13832437/13832437]\n",
            "\n"
          ],
          "name": "stdout"
        }
      ]
    },
    {
      "cell_type": "code",
      "metadata": {
        "colab": {
          "base_uri": "https://localhost:8080/"
        },
        "id": "z9DArhHwvJjM",
        "outputId": "3d02b7bd-1913-4656-f425-51e36e261deb"
      },
      "source": [
        "#list files in the directory \n",
        "!ls"
      ],
      "execution_count": null,
      "outputs": [
        {
          "output_type": "stream",
          "text": [
            "gdrive\t\t\t\tsample_data\n",
            "ngrok\t\t\t\tspark-3.1.2-bin-hadoop2.7\n",
            "ngrok-stable-linux-amd64.zip\tspark-3.1.2-bin-hadoop2.7.tgz\n",
            "ngrok-stable-linux-amd64.zip.1\n"
          ],
          "name": "stdout"
        }
      ]
    },
    {
      "cell_type": "code",
      "metadata": {
        "colab": {
          "base_uri": "https://localhost:8080/"
        },
        "id": "o67rpC4BvOKt",
        "outputId": "8289d2a7-471d-45f0-8655-c1e4138533af"
      },
      "source": [
        "#unzip web server \n",
        "!unzip ngrok-stable-linux-amd64.zip"
      ],
      "execution_count": null,
      "outputs": [
        {
          "output_type": "stream",
          "text": [
            "Archive:  ngrok-stable-linux-amd64.zip\n",
            "replace ngrok? [y]es, [n]o, [A]ll, [N]one, [r]ename: Y\n",
            "  inflating: ngrok                   \n"
          ],
          "name": "stdout"
        }
      ]
    },
    {
      "cell_type": "code",
      "metadata": {
        "id": "Y-FL6arVvQcd"
      },
      "source": [
        "get_ipython().system_raw('./ngrok http 4050 &')"
      ],
      "execution_count": null,
      "outputs": []
    },
    {
      "cell_type": "code",
      "metadata": {
        "colab": {
          "base_uri": "https://localhost:8080/"
        },
        "id": "xlDEWpdGvTq9",
        "outputId": "c9826d48-2997-427c-cb49-db5d55a4e1f6"
      },
      "source": [
        "!curl -s http://localhost:4040/api/tunnels"
      ],
      "execution_count": null,
      "outputs": [
        {
          "output_type": "stream",
          "text": [
            "{\"tunnels\":[{\"name\":\"command_line\",\"uri\":\"/api/tunnels/command_line\",\"public_url\":\"https://9072885297d3.ngrok.io\",\"proto\":\"https\",\"config\":{\"addr\":\"http://localhost:4050\",\"inspect\":true},\"metrics\":{\"conns\":{\"count\":0,\"gauge\":0,\"rate1\":0,\"rate5\":0,\"rate15\":0,\"p50\":0,\"p90\":0,\"p95\":0,\"p99\":0},\"http\":{\"count\":0,\"rate1\":0,\"rate5\":0,\"rate15\":0,\"p50\":0,\"p90\":0,\"p95\":0,\"p99\":0}}},{\"name\":\"command_line (http)\",\"uri\":\"/api/tunnels/command_line%20%28http%29\",\"public_url\":\"http://9072885297d3.ngrok.io\",\"proto\":\"http\",\"config\":{\"addr\":\"http://localhost:4050\",\"inspect\":true},\"metrics\":{\"conns\":{\"count\":0,\"gauge\":0,\"rate1\":0,\"rate5\":0,\"rate15\":0,\"p50\":0,\"p90\":0,\"p95\":0,\"p99\":0},\"http\":{\"count\":0,\"rate1\":0,\"rate5\":0,\"rate15\":0,\"p50\":0,\"p90\":0,\"p95\":0,\"p99\":0}}}],\"uri\":\"/api/tunnels\"}\n"
          ],
          "name": "stdout"
        }
      ]
    },
    {
      "cell_type": "code",
      "metadata": {
        "colab": {
          "base_uri": "https://localhost:8080/"
        },
        "id": "J0UeVTXTvWy9",
        "outputId": "0a6d4a67-f103-4cd5-d41c-1d973c32575f"
      },
      "source": [
        "#spark installation test\n",
        "df = spark.createDataFrame([{\"hello\": \"world\"} for x in range(1000)])\n",
        "df.show(3, False)"
      ],
      "execution_count": null,
      "outputs": [
        {
          "output_type": "stream",
          "text": [
            "+-----+\n",
            "|hello|\n",
            "+-----+\n",
            "|world|\n",
            "|world|\n",
            "|world|\n",
            "+-----+\n",
            "only showing top 3 rows\n",
            "\n"
          ],
          "name": "stdout"
        }
      ]
    },
    {
      "cell_type": "code",
      "metadata": {
        "colab": {
          "base_uri": "https://localhost:8080/"
        },
        "id": "8mopmia3vgXv",
        "outputId": "f7627042-5665-47c1-a4ca-7a40009e19fc"
      },
      "source": [
        "\n",
        "# Check the pyspark version\n",
        "import pyspark\n",
        "print(pyspark.__version__)"
      ],
      "execution_count": null,
      "outputs": [
        {
          "output_type": "stream",
          "text": [
            "3.1.2\n"
          ],
          "name": "stdout"
        }
      ]
    },
    {
      "cell_type": "code",
      "metadata": {
        "colab": {
          "base_uri": "https://localhost:8080/"
        },
        "id": "eHg1fyRwvjVf",
        "outputId": "b8f54b10-ab84-4270-894e-685abfed8516"
      },
      "source": [
        "#mount drive in colab\n",
        "from google.colab import drive\n",
        "drive.mount('/content/gdrive')"
      ],
      "execution_count": null,
      "outputs": [
        {
          "output_type": "stream",
          "text": [
            "Mounted at /content/gdrive\n"
          ],
          "name": "stdout"
        }
      ]
    },
    {
      "cell_type": "code",
      "metadata": {
        "colab": {
          "base_uri": "https://localhost:8080/",
          "height": 52
        },
        "id": "ElycG-lDxGna",
        "outputId": "6f04f54d-13a4-4a33-fc59-cace9deacb90"
      },
      "source": [
        "#changing the working directory\n",
        "%cd /content/gdrive/My Drive/Udacity\n",
        "#Check the present working directory using pwd command\n",
        "%pwd"
      ],
      "execution_count": null,
      "outputs": [
        {
          "output_type": "stream",
          "text": [
            "/content/gdrive/My Drive/Udacity\n"
          ],
          "name": "stdout"
        },
        {
          "output_type": "execute_result",
          "data": {
            "application/vnd.google.colaboratory.intrinsic+json": {
              "type": "string"
            },
            "text/plain": [
              "'/content/gdrive/My Drive/Udacity'"
            ]
          },
          "metadata": {
            "tags": []
          },
          "execution_count": 15
        }
      ]
    },
    {
      "cell_type": "code",
      "metadata": {
        "id": "mBUfb-9gWMrz"
      },
      "source": [
        "#load all the libraries \n",
        "import sys, os\n",
        "import zipfile\n",
        "import requests\n",
        "from multiprocessing import Pool, cpu_count\n",
        "from functools import partial\n",
        "from io import BytesIO"
      ],
      "execution_count": null,
      "outputs": []
    },
    {
      "cell_type": "code",
      "metadata": {
        "id": "ncQ9tqVwOBF3",
        "colab": {
          "base_uri": "https://localhost:8080/",
          "height": 460
        },
        "outputId": "b222b1d6-0be9-4c12-ee1a-fc663e5103b7"
      },
      "source": [
        "# dowload data from \"https://s3.amazonaws.com/capitalbikeshare-data/index.html\"\n",
        "import sys, os\n",
        "import zipfile\n",
        "import requests\n",
        "from multiprocessing import Pool, cpu_count\n",
        "from functools import partial\n",
        "from io import BytesIO\n",
        "\n",
        "\n",
        "def download_zip(url, filePath):\n",
        "    try:\n",
        "        file_name = url.split(\"/\")[-1]\n",
        "        response = requests.get(url)\n",
        "        sourceZip = zipfile.ZipFile(BytesIO(response.content))\n",
        "        print(\" Downloaded {} \".format(file_name))\n",
        "        sourceZip.extractall(filePath)\n",
        "        print(\" extracted {}\".format(file_name))\n",
        "        sourceZip.close()\n",
        "    except Exception as e:\n",
        "        print(e)\n",
        "\n",
        "url_2010_2017 = []\n",
        "#create links to download the zip file from 2010 to 2017. Until 2017, every year has one zip folder, each folder has four files of each quarter of the year. \n",
        "for i in range(2010,2018,1):\n",
        "  url_2010_2017.append(\"https://s3.amazonaws.com/capitalbikeshare-data/\"+str(i)+ \"-capitalbikeshare-tripdata.zip\")\n",
        "\n",
        "#download and extract zip files\n",
        "for url in url_2010_2017:\n",
        "  download_zip(url,\"//content/gdrive/My Drive/Udacity\")\n",
        "\n",
        "#create downloadable links from 2018 to 2021. These recent years have a file for each month of the year. \n",
        "url_2018_2021 = []\n",
        "for i in range (2018,2022,1):\n",
        "  for j in range(1,13,1):\n",
        "    if j<10:\n",
        "      url_2018_2021.append(\"https://s3.amazonaws.com/capitalbikeshare-data/\"+str(i)+str(0)+str(j)+\"-capitalbikeshare-tripdata.zip\")\n",
        "    else:\n",
        "      #October, November and December do not have a leading zero in the link \n",
        "      url_2018_2021.append(\"https://s3.amazonaws.com/capitalbikeshare-data/\"+str(i)+str(j)+\"-capitalbikeshare-tripdata.zip\")\n",
        "\n",
        "\n",
        "#download and execute the files. In this S3 bucket, we have data till may 2021. However, in the previous iteration, we have created link upto December 2021. That's why we have used subset of those created links.  \n",
        "for url in url_2018_2021[:41]:\n",
        "  download_zip(url,\"/content/gdrive/My Drive/Udacity\")\n"
      ],
      "execution_count": null,
      "outputs": [
        {
          "output_type": "stream",
          "text": [
            " Downloaded 2010-capitalbikeshare-tripdata.zip \n",
            " extracted 2010-capitalbikeshare-tripdata.zip\n",
            " Downloaded 2011-capitalbikeshare-tripdata.zip \n",
            " extracted 2011-capitalbikeshare-tripdata.zip\n",
            " Downloaded 2012-capitalbikeshare-tripdata.zip \n"
          ],
          "name": "stdout"
        },
        {
          "output_type": "error",
          "ename": "KeyboardInterrupt",
          "evalue": "ignored",
          "traceback": [
            "\u001b[0;31m---------------------------------------------------------------------------\u001b[0m",
            "\u001b[0;31mKeyboardInterrupt\u001b[0m                         Traceback (most recent call last)",
            "\u001b[0;32m<ipython-input-21-2e1b2e685738>\u001b[0m in \u001b[0;36m<module>\u001b[0;34m()\u001b[0m\n\u001b[1;32m     27\u001b[0m \u001b[0;31m#download and extract zip files\u001b[0m\u001b[0;34m\u001b[0m\u001b[0;34m\u001b[0m\u001b[0;34m\u001b[0m\u001b[0m\n\u001b[1;32m     28\u001b[0m \u001b[0;32mfor\u001b[0m \u001b[0murl\u001b[0m \u001b[0;32min\u001b[0m \u001b[0murl_2010_2017\u001b[0m\u001b[0;34m:\u001b[0m\u001b[0;34m\u001b[0m\u001b[0;34m\u001b[0m\u001b[0m\n\u001b[0;32m---> 29\u001b[0;31m   \u001b[0mdownload_zip\u001b[0m\u001b[0;34m(\u001b[0m\u001b[0murl\u001b[0m\u001b[0;34m,\u001b[0m\u001b[0;34m\"//content/gdrive/My Drive/Udacity\"\u001b[0m\u001b[0;34m)\u001b[0m\u001b[0;34m\u001b[0m\u001b[0;34m\u001b[0m\u001b[0m\n\u001b[0m\u001b[1;32m     30\u001b[0m \u001b[0;34m\u001b[0m\u001b[0m\n\u001b[1;32m     31\u001b[0m \u001b[0;31m#create downloadable links from 2018 to 2021. These recent years have a file for each month of the year.\u001b[0m\u001b[0;34m\u001b[0m\u001b[0;34m\u001b[0m\u001b[0;34m\u001b[0m\u001b[0m\n",
            "\u001b[0;32m<ipython-input-21-2e1b2e685738>\u001b[0m in \u001b[0;36mdownload_zip\u001b[0;34m(url, filePath)\u001b[0m\n\u001b[1;32m     14\u001b[0m         \u001b[0msourceZip\u001b[0m \u001b[0;34m=\u001b[0m \u001b[0mzipfile\u001b[0m\u001b[0;34m.\u001b[0m\u001b[0mZipFile\u001b[0m\u001b[0;34m(\u001b[0m\u001b[0mBytesIO\u001b[0m\u001b[0;34m(\u001b[0m\u001b[0mresponse\u001b[0m\u001b[0;34m.\u001b[0m\u001b[0mcontent\u001b[0m\u001b[0;34m)\u001b[0m\u001b[0;34m)\u001b[0m\u001b[0;34m\u001b[0m\u001b[0;34m\u001b[0m\u001b[0m\n\u001b[1;32m     15\u001b[0m         \u001b[0mprint\u001b[0m\u001b[0;34m(\u001b[0m\u001b[0;34m\" Downloaded {} \"\u001b[0m\u001b[0;34m.\u001b[0m\u001b[0mformat\u001b[0m\u001b[0;34m(\u001b[0m\u001b[0mfile_name\u001b[0m\u001b[0;34m)\u001b[0m\u001b[0;34m)\u001b[0m\u001b[0;34m\u001b[0m\u001b[0;34m\u001b[0m\u001b[0m\n\u001b[0;32m---> 16\u001b[0;31m         \u001b[0msourceZip\u001b[0m\u001b[0;34m.\u001b[0m\u001b[0mextractall\u001b[0m\u001b[0;34m(\u001b[0m\u001b[0mfilePath\u001b[0m\u001b[0;34m)\u001b[0m\u001b[0;34m\u001b[0m\u001b[0;34m\u001b[0m\u001b[0m\n\u001b[0m\u001b[1;32m     17\u001b[0m         \u001b[0mprint\u001b[0m\u001b[0;34m(\u001b[0m\u001b[0;34m\" extracted {}\"\u001b[0m\u001b[0;34m.\u001b[0m\u001b[0mformat\u001b[0m\u001b[0;34m(\u001b[0m\u001b[0mfile_name\u001b[0m\u001b[0;34m)\u001b[0m\u001b[0;34m)\u001b[0m\u001b[0;34m\u001b[0m\u001b[0;34m\u001b[0m\u001b[0m\n\u001b[1;32m     18\u001b[0m         \u001b[0msourceZip\u001b[0m\u001b[0;34m.\u001b[0m\u001b[0mclose\u001b[0m\u001b[0;34m(\u001b[0m\u001b[0;34m)\u001b[0m\u001b[0;34m\u001b[0m\u001b[0;34m\u001b[0m\u001b[0m\n",
            "\u001b[0;32m/usr/lib/python3.7/zipfile.py\u001b[0m in \u001b[0;36mextractall\u001b[0;34m(self, path, members, pwd)\u001b[0m\n\u001b[1;32m   1634\u001b[0m \u001b[0;34m\u001b[0m\u001b[0m\n\u001b[1;32m   1635\u001b[0m         \u001b[0;32mfor\u001b[0m \u001b[0mzipinfo\u001b[0m \u001b[0;32min\u001b[0m \u001b[0mmembers\u001b[0m\u001b[0;34m:\u001b[0m\u001b[0;34m\u001b[0m\u001b[0;34m\u001b[0m\u001b[0m\n\u001b[0;32m-> 1636\u001b[0;31m             \u001b[0mself\u001b[0m\u001b[0;34m.\u001b[0m\u001b[0m_extract_member\u001b[0m\u001b[0;34m(\u001b[0m\u001b[0mzipinfo\u001b[0m\u001b[0;34m,\u001b[0m \u001b[0mpath\u001b[0m\u001b[0;34m,\u001b[0m \u001b[0mpwd\u001b[0m\u001b[0;34m)\u001b[0m\u001b[0;34m\u001b[0m\u001b[0;34m\u001b[0m\u001b[0m\n\u001b[0m\u001b[1;32m   1637\u001b[0m \u001b[0;34m\u001b[0m\u001b[0m\n\u001b[1;32m   1638\u001b[0m     \u001b[0;34m@\u001b[0m\u001b[0mclassmethod\u001b[0m\u001b[0;34m\u001b[0m\u001b[0;34m\u001b[0m\u001b[0m\n",
            "\u001b[0;32m/usr/lib/python3.7/zipfile.py\u001b[0m in \u001b[0;36m_extract_member\u001b[0;34m(self, member, targetpath, pwd)\u001b[0m\n\u001b[1;32m   1689\u001b[0m         \u001b[0;32mwith\u001b[0m \u001b[0mself\u001b[0m\u001b[0;34m.\u001b[0m\u001b[0mopen\u001b[0m\u001b[0;34m(\u001b[0m\u001b[0mmember\u001b[0m\u001b[0;34m,\u001b[0m \u001b[0mpwd\u001b[0m\u001b[0;34m=\u001b[0m\u001b[0mpwd\u001b[0m\u001b[0;34m)\u001b[0m \u001b[0;32mas\u001b[0m \u001b[0msource\u001b[0m\u001b[0;34m,\u001b[0m\u001b[0;31m \u001b[0m\u001b[0;31m\\\u001b[0m\u001b[0;34m\u001b[0m\u001b[0;34m\u001b[0m\u001b[0m\n\u001b[1;32m   1690\u001b[0m              \u001b[0mopen\u001b[0m\u001b[0;34m(\u001b[0m\u001b[0mtargetpath\u001b[0m\u001b[0;34m,\u001b[0m \u001b[0;34m\"wb\"\u001b[0m\u001b[0;34m)\u001b[0m \u001b[0;32mas\u001b[0m \u001b[0mtarget\u001b[0m\u001b[0;34m:\u001b[0m\u001b[0;34m\u001b[0m\u001b[0;34m\u001b[0m\u001b[0m\n\u001b[0;32m-> 1691\u001b[0;31m             \u001b[0mshutil\u001b[0m\u001b[0;34m.\u001b[0m\u001b[0mcopyfileobj\u001b[0m\u001b[0;34m(\u001b[0m\u001b[0msource\u001b[0m\u001b[0;34m,\u001b[0m \u001b[0mtarget\u001b[0m\u001b[0;34m)\u001b[0m\u001b[0;34m\u001b[0m\u001b[0;34m\u001b[0m\u001b[0m\n\u001b[0m\u001b[1;32m   1692\u001b[0m \u001b[0;34m\u001b[0m\u001b[0m\n\u001b[1;32m   1693\u001b[0m         \u001b[0;32mreturn\u001b[0m \u001b[0mtargetpath\u001b[0m\u001b[0;34m\u001b[0m\u001b[0;34m\u001b[0m\u001b[0m\n",
            "\u001b[0;32m/usr/lib/python3.7/shutil.py\u001b[0m in \u001b[0;36mcopyfileobj\u001b[0;34m(fsrc, fdst, length)\u001b[0m\n\u001b[1;32m     80\u001b[0m         \u001b[0;32mif\u001b[0m \u001b[0;32mnot\u001b[0m \u001b[0mbuf\u001b[0m\u001b[0;34m:\u001b[0m\u001b[0;34m\u001b[0m\u001b[0;34m\u001b[0m\u001b[0m\n\u001b[1;32m     81\u001b[0m             \u001b[0;32mbreak\u001b[0m\u001b[0;34m\u001b[0m\u001b[0;34m\u001b[0m\u001b[0m\n\u001b[0;32m---> 82\u001b[0;31m         \u001b[0mfdst\u001b[0m\u001b[0;34m.\u001b[0m\u001b[0mwrite\u001b[0m\u001b[0;34m(\u001b[0m\u001b[0mbuf\u001b[0m\u001b[0;34m)\u001b[0m\u001b[0;34m\u001b[0m\u001b[0;34m\u001b[0m\u001b[0m\n\u001b[0m\u001b[1;32m     83\u001b[0m \u001b[0;34m\u001b[0m\u001b[0m\n\u001b[1;32m     84\u001b[0m \u001b[0;32mdef\u001b[0m \u001b[0m_samefile\u001b[0m\u001b[0;34m(\u001b[0m\u001b[0msrc\u001b[0m\u001b[0;34m,\u001b[0m \u001b[0mdst\u001b[0m\u001b[0;34m)\u001b[0m\u001b[0;34m:\u001b[0m\u001b[0;34m\u001b[0m\u001b[0;34m\u001b[0m\u001b[0m\n",
            "\u001b[0;31mKeyboardInterrupt\u001b[0m: "
          ]
        }
      ]
    },
    {
      "cell_type": "code",
      "metadata": {
        "colab": {
          "base_uri": "https://localhost:8080/"
        },
        "id": "zQw0S_cIOdjo",
        "outputId": "9d6659f5-92b3-4037-f372-962acc90c721"
      },
      "source": [
        "#get a list of the downloaded file \n",
        "!ls"
      ],
      "execution_count": null,
      "outputs": [
        {
          "output_type": "stream",
          "text": [
            "2010-capitalbikeshare-tripdata.csv    201809-capitalbikeshare-tripdata.csv\n",
            "2011-capitalbikeshare-tripdata.csv    201810-capitalbikeshare-tripdata.csv\n",
            "2012Q1-capitalbikeshare-tripdata.csv  201811-capitalbikeshare-tripdata.csv\n",
            "2012Q2-capitalbikeshare-tripdata.csv  201812-capitalbikeshare-tripdata.csv\n",
            "2012Q3-capitalbikeshare-tripdata.csv  201901-capitalbikeshare-tripdata.csv\n",
            "2012Q4-capitalbikeshare-tripdata.csv  201902-capitalbikeshare-tripdata.csv\n",
            "2013Q1-capitalbikeshare-tripdata.csv  201903-capitalbikeshare-tripdata.csv\n",
            "2013Q2-capitalbikeshare-tripdata.csv  201904-capitalbikeshare-tripdata.csv\n",
            "2013Q3-capitalbikeshare-tripdata.csv  201905-capitalbikeshare-tripdata.csv\n",
            "2013Q4-capitalbikeshare-tripdata.csv  201906-capitalbikeshare-tripdata.csv\n",
            "2014Q1-capitalbikeshare-tripdata.csv  201907-capitalbikeshare-tripdata\n",
            "2014Q2-capitalbikeshare-tripdata.csv  201908-capitalbikeshare-tripdata.csv\n",
            "2014Q3-capitalbikeshare-tripdata.csv  201909-capitalbikeshare-tripdata.csv\n",
            "2014Q4-capitalbikeshare-tripdata.csv  201910-capitalbikeshare-tripdata.csv\n",
            "2015Q1-capitalbikeshare-tripdata.csv  201911-capitalbikeshare-tripdata.csv\n",
            "2015Q2-capitalbikeshare-tripdata.csv  201912-capitalbikeshare-tripdata.csv\n",
            "2015Q3-capitalbikeshare-tripdata.csv  202001-capitalbikeshare-tripdata.csv\n",
            "2015Q4-capitalbikeshare-tripdata.csv  202002-capitalbikeshare-tripdata.csv\n",
            "2016Q1-capitalbikeshare-tripdata.csv  202003-capitalbikeshare-tripdata.csv\n",
            "2016Q2-capitalbikeshare-tripdata.csv  202005-capitalbikeshare-tripdata.csv\n",
            "2016Q3-capitalbikeshare-tripdata.csv  202006-capitalbikeshare-tripdata.csv\n",
            "2016Q4-capitalbikeshare-tripdata.csv  202007-capitalbikeshare-tripdata.csv\n",
            "2017Q1-capitalbikeshare-tripdata.csv  202008-capitalbikeshare-tripdata.csv\n",
            "2017Q2-capitalbikeshare-tripdata.csv  202009-capitalbikeshare-tripdata.csv\n",
            "2017Q3-capitalbikeshare-tripdata.csv  202010-capitalbikeshare-tripdata.csv\n",
            "2017Q4-capitalbikeshare-tripdata.csv  202011-capitalbikeshare-tripdata.csv\n",
            "201801_capitalbikeshare_tripdata.csv  202012-capitalbikeshare-tripdata.csv\n",
            "201802-capitalbikeshare-tripdata.csv  202101-capitalbikeshare-tripdata.csv\n",
            "201803-capitalbikeshare-tripdata.csv  202102-capitalbikeshare-tripdata.csv\n",
            "201804-capitalbikeshare-tripdata.csv  202103-capitalbikeshare-tripdata.csv\n",
            "201805-capitalbikeshare-tripdata.csv  202104-capitalbikeshare-tripdata.csv\n",
            "201806-capitalbikeshare-tripdata.csv  202105-capitalbikeshare-tripdata.csv\n",
            "201807-capitalbikeshare-tripdata.csv  __MACOSX\n",
            "201808-capitalbikeshare-tripdata.csv\n"
          ],
          "name": "stdout"
        }
      ]
    },
    {
      "cell_type": "code",
      "metadata": {
        "colab": {
          "base_uri": "https://localhost:8080/"
        },
        "id": "aeG-226NUMka",
        "outputId": "6aecb63d-ac4d-414a-85c8-73883a74aabf"
      },
      "source": [
        "# check the count of one of the downloaded files\n",
        "tripdata_2010 =spark.read.csv('/content/gdrive/My Drive/Udacity/2010-capitalbikeshare-tripdata.csv', header=True, mode=\"DROPMALFORMED\")\n",
        "tripdata_2010.count()"
      ],
      "execution_count": null,
      "outputs": [
        {
          "output_type": "execute_result",
          "data": {
            "text/plain": [
              "115597"
            ]
          },
          "metadata": {
            "tags": []
          },
          "execution_count": 22
        }
      ]
    },
    {
      "cell_type": "code",
      "metadata": {
        "colab": {
          "base_uri": "https://localhost:8080/"
        },
        "id": "LT-EG4qnccmy",
        "outputId": "b17bd8bb-9460-4796-c4db-f1c10b43f747"
      },
      "source": [
        "tripdata_2010.printSchema()"
      ],
      "execution_count": null,
      "outputs": [
        {
          "output_type": "stream",
          "text": [
            "root\n",
            " |-- Duration: string (nullable = true)\n",
            " |-- Start date: string (nullable = true)\n",
            " |-- End date: string (nullable = true)\n",
            " |-- Start station number: string (nullable = true)\n",
            " |-- Start station: string (nullable = true)\n",
            " |-- End station number: string (nullable = true)\n",
            " |-- End station: string (nullable = true)\n",
            " |-- Bike number: string (nullable = true)\n",
            " |-- Member type: string (nullable = true)\n",
            "\n"
          ],
          "name": "stdout"
        }
      ]
    },
    {
      "cell_type": "code",
      "metadata": {
        "colab": {
          "base_uri": "https://localhost:8080/"
        },
        "id": "cjh-YM15cgej",
        "outputId": "f2ab78a6-c10f-4178-e62c-94b0beabb193"
      },
      "source": [
        "tripdata_2011 =spark.read.csv('/content/gdrive/My Drive/Udacity/2011-capitalbikeshare-tripdata.csv', header=True, mode=\"DROPMALFORMED\")\n",
        "tripdata_2011.count()"
      ],
      "execution_count": null,
      "outputs": [
        {
          "output_type": "execute_result",
          "data": {
            "text/plain": [
              "1226767"
            ]
          },
          "metadata": {
            "tags": []
          },
          "execution_count": 24
        }
      ]
    },
    {
      "cell_type": "code",
      "metadata": {
        "colab": {
          "base_uri": "https://localhost:8080/"
        },
        "id": "x2ThJ-PIcuDR",
        "outputId": "2de90d8f-1c50-4ded-8547-060d0d27b579"
      },
      "source": [
        "tripdata_2011.printSchema()"
      ],
      "execution_count": null,
      "outputs": [
        {
          "output_type": "stream",
          "text": [
            "root\n",
            " |-- Duration: string (nullable = true)\n",
            " |-- Start date: string (nullable = true)\n",
            " |-- End date: string (nullable = true)\n",
            " |-- Start station number: string (nullable = true)\n",
            " |-- Start station: string (nullable = true)\n",
            " |-- End station number: string (nullable = true)\n",
            " |-- End station: string (nullable = true)\n",
            " |-- Bike number: string (nullable = true)\n",
            " |-- Member type: string (nullable = true)\n",
            "\n"
          ],
          "name": "stdout"
        }
      ]
    },
    {
      "cell_type": "code",
      "metadata": {
        "colab": {
          "base_uri": "https://localhost:8080/"
        },
        "id": "UcZuJKZaczLh",
        "outputId": "998698e6-4b42-4377-8f0c-fa8eb84bcd30"
      },
      "source": [
        "tripdata_202101 =spark.read.csv('/content/gdrive/My Drive/Udacity/202101-capitalbikeshare-tripdata.csv', header=True, mode=\"DROPMALFORMED\")\n",
        "tripdata_202101.count()"
      ],
      "execution_count": null,
      "outputs": [
        {
          "output_type": "execute_result",
          "data": {
            "text/plain": [
              "100070"
            ]
          },
          "metadata": {
            "tags": []
          },
          "execution_count": 26
        }
      ]
    },
    {
      "cell_type": "code",
      "metadata": {
        "colab": {
          "base_uri": "https://localhost:8080/"
        },
        "id": "8kirNRwWdXHT",
        "outputId": "99e8f077-2ca9-4654-c6c1-19a6a008828b"
      },
      "source": [
        "tripdata_202101.printSchema()"
      ],
      "execution_count": null,
      "outputs": [
        {
          "output_type": "stream",
          "text": [
            "root\n",
            " |-- ride_id: string (nullable = true)\n",
            " |-- rideable_type: string (nullable = true)\n",
            " |-- started_at: string (nullable = true)\n",
            " |-- ended_at: string (nullable = true)\n",
            " |-- start_station_name: string (nullable = true)\n",
            " |-- start_station_id: string (nullable = true)\n",
            " |-- end_station_name: string (nullable = true)\n",
            " |-- end_station_id: string (nullable = true)\n",
            " |-- start_lat: string (nullable = true)\n",
            " |-- start_lng: string (nullable = true)\n",
            " |-- end_lat: string (nullable = true)\n",
            " |-- end_lng: string (nullable = true)\n",
            " |-- member_casual: string (nullable = true)\n",
            "\n"
          ],
          "name": "stdout"
        }
      ]
    },
    {
      "cell_type": "code",
      "metadata": {
        "colab": {
          "base_uri": "https://localhost:8080/"
        },
        "id": "AlqvAHGVdbIU",
        "outputId": "95cf67f3-dbac-4313-e65c-4f784008d46e"
      },
      "source": [
        "import os \n",
        "os.listdir()"
      ],
      "execution_count": null,
      "outputs": [
        {
          "output_type": "execute_result",
          "data": {
            "text/plain": [
              "['2010-capitalbikeshare-tripdata.csv',\n",
              " '2011-capitalbikeshare-tripdata.csv',\n",
              " '2012Q1-capitalbikeshare-tripdata.csv',\n",
              " '2012Q2-capitalbikeshare-tripdata.csv',\n",
              " '2012Q3-capitalbikeshare-tripdata.csv',\n",
              " '2012Q4-capitalbikeshare-tripdata.csv',\n",
              " '2013Q1-capitalbikeshare-tripdata.csv',\n",
              " '2013Q2-capitalbikeshare-tripdata.csv',\n",
              " '2013Q3-capitalbikeshare-tripdata.csv',\n",
              " '2013Q4-capitalbikeshare-tripdata.csv',\n",
              " '2014Q1-capitalbikeshare-tripdata.csv',\n",
              " '2014Q2-capitalbikeshare-tripdata.csv',\n",
              " '2014Q3-capitalbikeshare-tripdata.csv',\n",
              " '2014Q4-capitalbikeshare-tripdata.csv',\n",
              " '2015Q1-capitalbikeshare-tripdata.csv',\n",
              " '2015Q2-capitalbikeshare-tripdata.csv',\n",
              " '2015Q3-capitalbikeshare-tripdata.csv',\n",
              " '2015Q4-capitalbikeshare-tripdata.csv',\n",
              " '2016Q1-capitalbikeshare-tripdata.csv',\n",
              " '2016Q2-capitalbikeshare-tripdata.csv',\n",
              " '2016Q3-capitalbikeshare-tripdata.csv',\n",
              " '2016Q4-capitalbikeshare-tripdata.csv',\n",
              " '2017Q1-capitalbikeshare-tripdata.csv',\n",
              " '2017Q2-capitalbikeshare-tripdata.csv',\n",
              " '2017Q3-capitalbikeshare-tripdata.csv',\n",
              " '2017Q4-capitalbikeshare-tripdata.csv',\n",
              " '201801_capitalbikeshare_tripdata.csv',\n",
              " '201802-capitalbikeshare-tripdata.csv',\n",
              " '__MACOSX',\n",
              " '201803-capitalbikeshare-tripdata.csv',\n",
              " '201804-capitalbikeshare-tripdata.csv',\n",
              " '201805-capitalbikeshare-tripdata.csv',\n",
              " '201806-capitalbikeshare-tripdata.csv',\n",
              " '201807-capitalbikeshare-tripdata.csv',\n",
              " '201808-capitalbikeshare-tripdata.csv',\n",
              " '201809-capitalbikeshare-tripdata.csv',\n",
              " '201810-capitalbikeshare-tripdata.csv',\n",
              " '201811-capitalbikeshare-tripdata.csv',\n",
              " '201812-capitalbikeshare-tripdata.csv',\n",
              " '201901-capitalbikeshare-tripdata.csv',\n",
              " '201902-capitalbikeshare-tripdata.csv',\n",
              " '201903-capitalbikeshare-tripdata.csv',\n",
              " '201904-capitalbikeshare-tripdata.csv',\n",
              " '201905-capitalbikeshare-tripdata.csv',\n",
              " '201906-capitalbikeshare-tripdata.csv',\n",
              " '201907-capitalbikeshare-tripdata',\n",
              " '201908-capitalbikeshare-tripdata.csv',\n",
              " '201909-capitalbikeshare-tripdata.csv',\n",
              " '201910-capitalbikeshare-tripdata.csv',\n",
              " '201911-capitalbikeshare-tripdata.csv',\n",
              " '201912-capitalbikeshare-tripdata.csv',\n",
              " '202001-capitalbikeshare-tripdata.csv',\n",
              " '202002-capitalbikeshare-tripdata.csv',\n",
              " '202003-capitalbikeshare-tripdata.csv',\n",
              " '202005-capitalbikeshare-tripdata.csv',\n",
              " '202006-capitalbikeshare-tripdata.csv',\n",
              " '202007-capitalbikeshare-tripdata.csv',\n",
              " '202008-capitalbikeshare-tripdata.csv',\n",
              " '202009-capitalbikeshare-tripdata.csv',\n",
              " '202010-capitalbikeshare-tripdata.csv',\n",
              " '202011-capitalbikeshare-tripdata.csv',\n",
              " '202012-capitalbikeshare-tripdata.csv',\n",
              " '202101-capitalbikeshare-tripdata.csv',\n",
              " '202102-capitalbikeshare-tripdata.csv',\n",
              " '202103-capitalbikeshare-tripdata.csv',\n",
              " '202104-capitalbikeshare-tripdata.csv',\n",
              " '202105-capitalbikeshare-tripdata.csv']"
            ]
          },
          "metadata": {
            "tags": []
          },
          "execution_count": 28
        }
      ]
    },
    {
      "cell_type": "code",
      "metadata": {
        "id": "yY0w1ik0jkgz"
      },
      "source": [
        "# rename a file which does not have csv extenion \n",
        "os.rename('201907-capitalbikeshare-tripdata','201907-capitalbikeshare-tripdata.csv') "
      ],
      "execution_count": null,
      "outputs": []
    },
    {
      "cell_type": "code",
      "metadata": {
        "colab": {
          "base_uri": "https://localhost:8080/"
        },
        "id": "Tf75oSI0kUfj",
        "outputId": "a1bda35d-b721-46e7-a1a7-3635a89d701f"
      },
      "source": [
        "os.listdir()"
      ],
      "execution_count": null,
      "outputs": [
        {
          "output_type": "execute_result",
          "data": {
            "text/plain": [
              "['2010-capitalbikeshare-tripdata.csv',\n",
              " '2011-capitalbikeshare-tripdata.csv',\n",
              " '2012Q1-capitalbikeshare-tripdata.csv',\n",
              " '2012Q2-capitalbikeshare-tripdata.csv',\n",
              " '2012Q3-capitalbikeshare-tripdata.csv',\n",
              " '2012Q4-capitalbikeshare-tripdata.csv',\n",
              " '2013Q1-capitalbikeshare-tripdata.csv',\n",
              " '2013Q2-capitalbikeshare-tripdata.csv',\n",
              " '2013Q3-capitalbikeshare-tripdata.csv',\n",
              " '2013Q4-capitalbikeshare-tripdata.csv',\n",
              " '2014Q1-capitalbikeshare-tripdata.csv',\n",
              " '2014Q2-capitalbikeshare-tripdata.csv',\n",
              " '2014Q3-capitalbikeshare-tripdata.csv',\n",
              " '2014Q4-capitalbikeshare-tripdata.csv',\n",
              " '2015Q1-capitalbikeshare-tripdata.csv',\n",
              " '2015Q2-capitalbikeshare-tripdata.csv',\n",
              " '2015Q3-capitalbikeshare-tripdata.csv',\n",
              " '2015Q4-capitalbikeshare-tripdata.csv',\n",
              " '2016Q1-capitalbikeshare-tripdata.csv',\n",
              " '2016Q2-capitalbikeshare-tripdata.csv',\n",
              " '2016Q3-capitalbikeshare-tripdata.csv',\n",
              " '2016Q4-capitalbikeshare-tripdata.csv',\n",
              " '2017Q1-capitalbikeshare-tripdata.csv',\n",
              " '2017Q2-capitalbikeshare-tripdata.csv',\n",
              " '2017Q3-capitalbikeshare-tripdata.csv',\n",
              " '2017Q4-capitalbikeshare-tripdata.csv',\n",
              " '201801_capitalbikeshare_tripdata.csv',\n",
              " '201802-capitalbikeshare-tripdata.csv',\n",
              " '__MACOSX',\n",
              " '201803-capitalbikeshare-tripdata.csv',\n",
              " '201804-capitalbikeshare-tripdata.csv',\n",
              " '201805-capitalbikeshare-tripdata.csv',\n",
              " '201806-capitalbikeshare-tripdata.csv',\n",
              " '201807-capitalbikeshare-tripdata.csv',\n",
              " '201808-capitalbikeshare-tripdata.csv',\n",
              " '201809-capitalbikeshare-tripdata.csv',\n",
              " '201810-capitalbikeshare-tripdata.csv',\n",
              " '201811-capitalbikeshare-tripdata.csv',\n",
              " '201812-capitalbikeshare-tripdata.csv',\n",
              " '201901-capitalbikeshare-tripdata.csv',\n",
              " '201902-capitalbikeshare-tripdata.csv',\n",
              " '201903-capitalbikeshare-tripdata.csv',\n",
              " '201904-capitalbikeshare-tripdata.csv',\n",
              " '201905-capitalbikeshare-tripdata.csv',\n",
              " '201906-capitalbikeshare-tripdata.csv',\n",
              " '201907-capitalbikeshare-tripdata.csv',\n",
              " '201908-capitalbikeshare-tripdata.csv',\n",
              " '201909-capitalbikeshare-tripdata.csv',\n",
              " '201910-capitalbikeshare-tripdata.csv',\n",
              " '201911-capitalbikeshare-tripdata.csv',\n",
              " '201912-capitalbikeshare-tripdata.csv',\n",
              " '202001-capitalbikeshare-tripdata.csv',\n",
              " '202002-capitalbikeshare-tripdata.csv',\n",
              " '202003-capitalbikeshare-tripdata.csv',\n",
              " '202005-capitalbikeshare-tripdata.csv',\n",
              " '202006-capitalbikeshare-tripdata.csv',\n",
              " '202007-capitalbikeshare-tripdata.csv',\n",
              " '202008-capitalbikeshare-tripdata.csv',\n",
              " '202009-capitalbikeshare-tripdata.csv',\n",
              " '202010-capitalbikeshare-tripdata.csv',\n",
              " '202011-capitalbikeshare-tripdata.csv',\n",
              " '202012-capitalbikeshare-tripdata.csv',\n",
              " '202101-capitalbikeshare-tripdata.csv',\n",
              " '202102-capitalbikeshare-tripdata.csv',\n",
              " '202103-capitalbikeshare-tripdata.csv',\n",
              " '202104-capitalbikeshare-tripdata.csv',\n",
              " '202105-capitalbikeshare-tripdata.csv']"
            ]
          },
          "metadata": {
            "tags": []
          },
          "execution_count": 30
        }
      ]
    },
    {
      "cell_type": "code",
      "metadata": {
        "colab": {
          "base_uri": "https://localhost:8080/"
        },
        "id": "JHrcQXVaneDM",
        "outputId": "6c88f5f3-c815-4522-f64a-4fbc27f907ea"
      },
      "source": [
        "#check whether all files have same schema or not \n",
        "all_files = os.listdir()\n",
        "\n",
        "for i in all_files:\n",
        "  print(i)\n",
        "  df = spark.read.csv(\"/content/gdrive/My Drive/Udacity/\"+i,header=True, mode=\"DROPMALFORMED\")\n",
        "  print(df.count())\n",
        "  df.printSchema()\n",
        "  \n"
      ],
      "execution_count": null,
      "outputs": [
        {
          "output_type": "stream",
          "text": [
            "2010-capitalbikeshare-tripdata.csv\n",
            "115597\n",
            "root\n",
            " |-- Duration: string (nullable = true)\n",
            " |-- Start date: string (nullable = true)\n",
            " |-- End date: string (nullable = true)\n",
            " |-- Start station number: string (nullable = true)\n",
            " |-- Start station: string (nullable = true)\n",
            " |-- End station number: string (nullable = true)\n",
            " |-- End station: string (nullable = true)\n",
            " |-- Bike number: string (nullable = true)\n",
            " |-- Member type: string (nullable = true)\n",
            "\n",
            "2011-capitalbikeshare-tripdata.csv\n",
            "1226767\n",
            "root\n",
            " |-- Duration: string (nullable = true)\n",
            " |-- Start date: string (nullable = true)\n",
            " |-- End date: string (nullable = true)\n",
            " |-- Start station number: string (nullable = true)\n",
            " |-- Start station: string (nullable = true)\n",
            " |-- End station number: string (nullable = true)\n",
            " |-- End station: string (nullable = true)\n",
            " |-- Bike number: string (nullable = true)\n",
            " |-- Member type: string (nullable = true)\n",
            "\n",
            "2012Q1-capitalbikeshare-tripdata.csv\n",
            "361317\n",
            "root\n",
            " |-- Duration: string (nullable = true)\n",
            " |-- Start date: string (nullable = true)\n",
            " |-- End date: string (nullable = true)\n",
            " |-- Start station number: string (nullable = true)\n",
            " |-- Start station: string (nullable = true)\n",
            " |-- End station number: string (nullable = true)\n",
            " |-- End station: string (nullable = true)\n",
            " |-- Bike number: string (nullable = true)\n",
            " |-- Member type: string (nullable = true)\n",
            "\n",
            "2012Q2-capitalbikeshare-tripdata.csv\n",
            "566832\n",
            "root\n",
            " |-- Duration: string (nullable = true)\n",
            " |-- Start date: string (nullable = true)\n",
            " |-- End date: string (nullable = true)\n",
            " |-- Start station number: string (nullable = true)\n",
            " |-- Start station: string (nullable = true)\n",
            " |-- End station number: string (nullable = true)\n",
            " |-- End station: string (nullable = true)\n",
            " |-- Bike number: string (nullable = true)\n",
            " |-- Member type: string (nullable = true)\n",
            "\n",
            "2012Q3-capitalbikeshare-tripdata.csv\n",
            "629917\n",
            "root\n",
            " |-- Duration: string (nullable = true)\n",
            " |-- Start date: string (nullable = true)\n",
            " |-- End date: string (nullable = true)\n",
            " |-- Start station number: string (nullable = true)\n",
            " |-- Start station: string (nullable = true)\n",
            " |-- End station number: string (nullable = true)\n",
            " |-- End station: string (nullable = true)\n",
            " |-- Bike number: string (nullable = true)\n",
            " |-- Member type: string (nullable = true)\n",
            "\n",
            "2012Q4-capitalbikeshare-tripdata.csv\n",
            "470845\n",
            "root\n",
            " |-- Duration: string (nullable = true)\n",
            " |-- Start date: string (nullable = true)\n",
            " |-- End date: string (nullable = true)\n",
            " |-- Start station number: string (nullable = true)\n",
            " |-- Start station: string (nullable = true)\n",
            " |-- End station number: string (nullable = true)\n",
            " |-- End station: string (nullable = true)\n",
            " |-- Bike number: string (nullable = true)\n",
            " |-- Member type: string (nullable = true)\n",
            "\n",
            "2013Q1-capitalbikeshare-tripdata.csv\n",
            "392457\n",
            "root\n",
            " |-- Duration: string (nullable = true)\n",
            " |-- Start date: string (nullable = true)\n",
            " |-- End date: string (nullable = true)\n",
            " |-- Start station number: string (nullable = true)\n",
            " |-- Start station: string (nullable = true)\n",
            " |-- End station number: string (nullable = true)\n",
            " |-- End station: string (nullable = true)\n",
            " |-- Bike number: string (nullable = true)\n",
            " |-- Member type: string (nullable = true)\n",
            "\n",
            "2013Q2-capitalbikeshare-tripdata.csv\n",
            "740672\n",
            "root\n",
            " |-- Duration: string (nullable = true)\n",
            " |-- Start date: string (nullable = true)\n",
            " |-- End date: string (nullable = true)\n",
            " |-- Start station number: string (nullable = true)\n",
            " |-- Start station: string (nullable = true)\n",
            " |-- End station number: string (nullable = true)\n",
            " |-- End station: string (nullable = true)\n",
            " |-- Bike number: string (nullable = true)\n",
            " |-- Member type: string (nullable = true)\n",
            "\n",
            "2013Q3-capitalbikeshare-tripdata.csv\n",
            "838746\n",
            "root\n",
            " |-- Duration: string (nullable = true)\n",
            " |-- Start date: string (nullable = true)\n",
            " |-- End date: string (nullable = true)\n",
            " |-- Start station number: string (nullable = true)\n",
            " |-- Start station: string (nullable = true)\n",
            " |-- End station number: string (nullable = true)\n",
            " |-- End station: string (nullable = true)\n",
            " |-- Bike number: string (nullable = true)\n",
            " |-- Member type: string (nullable = true)\n",
            "\n",
            "2013Q4-capitalbikeshare-tripdata.csv\n",
            "583666\n",
            "root\n",
            " |-- Duration: string (nullable = true)\n",
            " |-- Start date: string (nullable = true)\n",
            " |-- End date: string (nullable = true)\n",
            " |-- Start station number: string (nullable = true)\n",
            " |-- Start station: string (nullable = true)\n",
            " |-- End station number: string (nullable = true)\n",
            " |-- End station: string (nullable = true)\n",
            " |-- Bike number: string (nullable = true)\n",
            " |-- Member type: string (nullable = true)\n",
            "\n",
            "2014Q1-capitalbikeshare-tripdata.csv\n",
            "401122\n",
            "root\n",
            " |-- Duration: string (nullable = true)\n",
            " |-- Start date: string (nullable = true)\n",
            " |-- End date: string (nullable = true)\n",
            " |-- Start station number: string (nullable = true)\n",
            " |-- Start station: string (nullable = true)\n",
            " |-- End station number: string (nullable = true)\n",
            " |-- End station: string (nullable = true)\n",
            " |-- Bike number: string (nullable = true)\n",
            " |-- Member type: string (nullable = true)\n",
            "\n",
            "2014Q2-capitalbikeshare-tripdata.csv\n",
            "892819\n",
            "root\n",
            " |-- Duration: string (nullable = true)\n",
            " |-- Start date: string (nullable = true)\n",
            " |-- End date: string (nullable = true)\n",
            " |-- Start station number: string (nullable = true)\n",
            " |-- Start station: string (nullable = true)\n",
            " |-- End station number: string (nullable = true)\n",
            " |-- End station: string (nullable = true)\n",
            " |-- Bike number: string (nullable = true)\n",
            " |-- Member type: string (nullable = true)\n",
            "\n",
            "2014Q3-capitalbikeshare-tripdata.csv\n",
            "972639\n",
            "root\n",
            " |-- Duration: string (nullable = true)\n",
            " |-- Start date: string (nullable = true)\n",
            " |-- End date: string (nullable = true)\n",
            " |-- Start station number: string (nullable = true)\n",
            " |-- Start station: string (nullable = true)\n",
            " |-- End station number: string (nullable = true)\n",
            " |-- End station: string (nullable = true)\n",
            " |-- Bike number: string (nullable = true)\n",
            " |-- Member type: string (nullable = true)\n",
            "\n",
            "2014Q4-capitalbikeshare-tripdata.csv\n",
            "646570\n",
            "root\n",
            " |-- Duration: string (nullable = true)\n",
            " |-- Start date: string (nullable = true)\n",
            " |-- End date: string (nullable = true)\n",
            " |-- Start station number: string (nullable = true)\n",
            " |-- Start station: string (nullable = true)\n",
            " |-- End station number: string (nullable = true)\n",
            " |-- End station: string (nullable = true)\n",
            " |-- Bike number: string (nullable = true)\n",
            " |-- Member type: string (nullable = true)\n",
            "\n",
            "2015Q1-capitalbikeshare-tripdata.csv\n",
            "423719\n",
            "root\n",
            " |-- Duration: string (nullable = true)\n",
            " |-- Start date: string (nullable = true)\n",
            " |-- End date: string (nullable = true)\n",
            " |-- Start station number: string (nullable = true)\n",
            " |-- Start station: string (nullable = true)\n",
            " |-- End station number: string (nullable = true)\n",
            " |-- End station: string (nullable = true)\n",
            " |-- Bike number: string (nullable = true)\n",
            " |-- Member type: string (nullable = true)\n",
            "\n",
            "2015Q2-capitalbikeshare-tripdata.csv\n",
            "999818\n",
            "root\n",
            " |-- Duration: string (nullable = true)\n",
            " |-- Start date: string (nullable = true)\n",
            " |-- End date: string (nullable = true)\n",
            " |-- Start station number: string (nullable = true)\n",
            " |-- Start station: string (nullable = true)\n",
            " |-- End station number: string (nullable = true)\n",
            " |-- End station: string (nullable = true)\n",
            " |-- Bike number: string (nullable = true)\n",
            " |-- Member type: string (nullable = true)\n",
            "\n",
            "2015Q3-capitalbikeshare-tripdata.csv\n",
            "1056366\n",
            "root\n",
            " |-- Duration: string (nullable = true)\n",
            " |-- Start date: string (nullable = true)\n",
            " |-- End date: string (nullable = true)\n",
            " |-- Start station number: string (nullable = true)\n",
            " |-- Start station: string (nullable = true)\n",
            " |-- End station number: string (nullable = true)\n",
            " |-- End station: string (nullable = true)\n",
            " |-- Bike number: string (nullable = true)\n",
            " |-- Member type: string (nullable = true)\n",
            "\n",
            "2015Q4-capitalbikeshare-tripdata.csv\n",
            "706003\n",
            "root\n",
            " |-- Duration: string (nullable = true)\n",
            " |-- Start date: string (nullable = true)\n",
            " |-- End date: string (nullable = true)\n",
            " |-- Start station number: string (nullable = true)\n",
            " |-- Start station: string (nullable = true)\n",
            " |-- End station number: string (nullable = true)\n",
            " |-- End station: string (nullable = true)\n",
            " |-- Bike number: string (nullable = true)\n",
            " |-- Member type: string (nullable = true)\n",
            "\n",
            "2016Q1-capitalbikeshare-tripdata.csv\n",
            "552399\n",
            "root\n",
            " |-- Duration: string (nullable = true)\n",
            " |-- Start date: string (nullable = true)\n",
            " |-- End date: string (nullable = true)\n",
            " |-- Start station number: string (nullable = true)\n",
            " |-- Start station: string (nullable = true)\n",
            " |-- End station number: string (nullable = true)\n",
            " |-- End station: string (nullable = true)\n",
            " |-- Bike number: string (nullable = true)\n",
            " |-- Member type: string (nullable = true)\n",
            "\n",
            "2016Q2-capitalbikeshare-tripdata.csv\n",
            "942333\n",
            "root\n",
            " |-- Duration: string (nullable = true)\n",
            " |-- Start date: string (nullable = true)\n",
            " |-- End date: string (nullable = true)\n",
            " |-- Start station number: string (nullable = true)\n",
            " |-- Start station: string (nullable = true)\n",
            " |-- End station number: string (nullable = true)\n",
            " |-- End station: string (nullable = true)\n",
            " |-- Bike number: string (nullable = true)\n",
            " |-- Member type: string (nullable = true)\n",
            "\n",
            "2016Q3-capitalbikeshare-tripdata.csv\n",
            "1068194\n",
            "root\n",
            " |-- Duration: string (nullable = true)\n",
            " |-- Start date: string (nullable = true)\n",
            " |-- End date: string (nullable = true)\n",
            " |-- Start station number: string (nullable = true)\n",
            " |-- Start station: string (nullable = true)\n",
            " |-- End station number: string (nullable = true)\n",
            " |-- End station: string (nullable = true)\n",
            " |-- Bike number: string (nullable = true)\n",
            " |-- Member type: string (nullable = true)\n",
            "\n",
            "2016Q4-capitalbikeshare-tripdata.csv\n",
            "771068\n",
            "root\n",
            " |-- Duration: string (nullable = true)\n",
            " |-- Start date: string (nullable = true)\n",
            " |-- End date: string (nullable = true)\n",
            " |-- Start station number: string (nullable = true)\n",
            " |-- Start station: string (nullable = true)\n",
            " |-- End station number: string (nullable = true)\n",
            " |-- End station: string (nullable = true)\n",
            " |-- Bike number: string (nullable = true)\n",
            " |-- Member type: string (nullable = true)\n",
            "\n",
            "2017Q1-capitalbikeshare-tripdata.csv\n",
            "646510\n",
            "root\n",
            " |-- Duration: string (nullable = true)\n",
            " |-- Start date: string (nullable = true)\n",
            " |-- End date: string (nullable = true)\n",
            " |-- Start station number: string (nullable = true)\n",
            " |-- Start station: string (nullable = true)\n",
            " |-- End station number: string (nullable = true)\n",
            " |-- End station: string (nullable = true)\n",
            " |-- Bike number: string (nullable = true)\n",
            " |-- Member type: string (nullable = true)\n",
            "\n",
            "2017Q2-capitalbikeshare-tripdata.csv\n",
            "1104418\n",
            "root\n",
            " |-- Duration: string (nullable = true)\n",
            " |-- Start date: string (nullable = true)\n",
            " |-- End date: string (nullable = true)\n",
            " |-- Start station number: string (nullable = true)\n",
            " |-- Start station: string (nullable = true)\n",
            " |-- End station number: string (nullable = true)\n",
            " |-- End station: string (nullable = true)\n",
            " |-- Bike number: string (nullable = true)\n",
            " |-- Member type: string (nullable = true)\n",
            "\n",
            "2017Q3-capitalbikeshare-tripdata.csv\n",
            "1191585\n",
            "root\n",
            " |-- Duration: string (nullable = true)\n",
            " |-- Start date: string (nullable = true)\n",
            " |-- End date: string (nullable = true)\n",
            " |-- Start station number: string (nullable = true)\n",
            " |-- Start station: string (nullable = true)\n",
            " |-- End station number: string (nullable = true)\n",
            " |-- End station: string (nullable = true)\n",
            " |-- Bike number: string (nullable = true)\n",
            " |-- Member type: string (nullable = true)\n",
            "\n",
            "2017Q4-capitalbikeshare-tripdata.csv\n",
            "815264\n",
            "root\n",
            " |-- Duration: string (nullable = true)\n",
            " |-- Start date: string (nullable = true)\n",
            " |-- End date: string (nullable = true)\n",
            " |-- Start station number: string (nullable = true)\n",
            " |-- Start station: string (nullable = true)\n",
            " |-- End station number: string (nullable = true)\n",
            " |-- End station: string (nullable = true)\n",
            " |-- Bike number: string (nullable = true)\n",
            " |-- Member type: string (nullable = true)\n",
            "\n",
            "201801_capitalbikeshare_tripdata.csv\n",
            "168590\n",
            "root\n",
            " |-- Duration: string (nullable = true)\n",
            " |-- Start date: string (nullable = true)\n",
            " |-- End date: string (nullable = true)\n",
            " |-- Start station number: string (nullable = true)\n",
            " |-- Start station: string (nullable = true)\n",
            " |-- End station number: string (nullable = true)\n",
            " |-- End station: string (nullable = true)\n",
            " |-- Bike number: string (nullable = true)\n",
            " |-- Member type: string (nullable = true)\n",
            "\n",
            "201802-capitalbikeshare-tripdata.csv\n",
            "182378\n",
            "root\n",
            " |-- Duration: string (nullable = true)\n",
            " |-- Start date: string (nullable = true)\n",
            " |-- End date: string (nullable = true)\n",
            " |-- Start station number: string (nullable = true)\n",
            " |-- Start station: string (nullable = true)\n",
            " |-- End station number: string (nullable = true)\n",
            " |-- End station: string (nullable = true)\n",
            " |-- Bike number: string (nullable = true)\n",
            " |-- Member type: string (nullable = true)\n",
            "\n",
            "201803-capitalbikeshare-tripdata.csv\n",
            "238998\n",
            "root\n",
            " |-- Duration: string (nullable = true)\n",
            " |-- Start date: string (nullable = true)\n",
            " |-- End date: string (nullable = true)\n",
            " |-- Start station number: string (nullable = true)\n",
            " |-- Start station: string (nullable = true)\n",
            " |-- End station number: string (nullable = true)\n",
            " |-- End station: string (nullable = true)\n",
            " |-- Bike number: string (nullable = true)\n",
            " |-- Member type: string (nullable = true)\n",
            "\n",
            "201804-capitalbikeshare-tripdata.csv\n",
            "328907\n",
            "root\n",
            " |-- Duration: string (nullable = true)\n",
            " |-- Start date: string (nullable = true)\n",
            " |-- End date: string (nullable = true)\n",
            " |-- Start station number: string (nullable = true)\n",
            " |-- Start station: string (nullable = true)\n",
            " |-- End station number: string (nullable = true)\n",
            " |-- End station: string (nullable = true)\n",
            " |-- Bike number: string (nullable = true)\n",
            " |-- Member type: string (nullable = true)\n",
            "\n",
            "201805-capitalbikeshare-tripdata.csv\n",
            "374115\n",
            "root\n",
            " |-- Duration: string (nullable = true)\n",
            " |-- Start date: string (nullable = true)\n",
            " |-- End date: string (nullable = true)\n",
            " |-- Start station number: string (nullable = true)\n",
            " |-- Start station: string (nullable = true)\n",
            " |-- End station number: string (nullable = true)\n",
            " |-- End station: string (nullable = true)\n",
            " |-- Bike number: string (nullable = true)\n",
            " |-- Member type: string (nullable = true)\n",
            "\n",
            "201806-capitalbikeshare-tripdata.csv\n",
            "392338\n",
            "root\n",
            " |-- Duration: string (nullable = true)\n",
            " |-- Start date: string (nullable = true)\n",
            " |-- End date: string (nullable = true)\n",
            " |-- Start station number: string (nullable = true)\n",
            " |-- Start station: string (nullable = true)\n",
            " |-- End station number: string (nullable = true)\n",
            " |-- End station: string (nullable = true)\n",
            " |-- Bike number: string (nullable = true)\n",
            " |-- Member type: string (nullable = true)\n",
            "\n",
            "201807-capitalbikeshare-tripdata.csv\n",
            "404761\n",
            "root\n",
            " |-- Duration: string (nullable = true)\n",
            " |-- Start date: string (nullable = true)\n",
            " |-- End date: string (nullable = true)\n",
            " |-- Start station number: string (nullable = true)\n",
            " |-- Start station: string (nullable = true)\n",
            " |-- End station number: string (nullable = true)\n",
            " |-- End station: string (nullable = true)\n",
            " |-- Bike number: string (nullable = true)\n",
            " |-- Member type: string (nullable = true)\n",
            "\n",
            "201808-capitalbikeshare-tripdata.csv\n",
            "403866\n",
            "root\n",
            " |-- Duration: string (nullable = true)\n",
            " |-- Start date: string (nullable = true)\n",
            " |-- End date: string (nullable = true)\n",
            " |-- Start station number: string (nullable = true)\n",
            " |-- Start station: string (nullable = true)\n",
            " |-- End station number: string (nullable = true)\n",
            " |-- End station: string (nullable = true)\n",
            " |-- Bike number: string (nullable = true)\n",
            " |-- Member type: string (nullable = true)\n",
            "\n",
            "201809-capitalbikeshare-tripdata.csv\n",
            "325800\n",
            "root\n",
            " |-- Duration: string (nullable = true)\n",
            " |-- Start date: string (nullable = true)\n",
            " |-- End date: string (nullable = true)\n",
            " |-- Start station number: string (nullable = true)\n",
            " |-- Start station: string (nullable = true)\n",
            " |-- End station number: string (nullable = true)\n",
            " |-- End station: string (nullable = true)\n",
            " |-- Bike number: string (nullable = true)\n",
            " |-- Member type: string (nullable = true)\n",
            "\n",
            "201810-capitalbikeshare-tripdata.csv\n",
            "343021\n",
            "root\n",
            " |-- Duration: string (nullable = true)\n",
            " |-- Start date: string (nullable = true)\n",
            " |-- End date: string (nullable = true)\n",
            " |-- Start station number: string (nullable = true)\n",
            " |-- Start station: string (nullable = true)\n",
            " |-- End station number: string (nullable = true)\n",
            " |-- End station: string (nullable = true)\n",
            " |-- Bike number: string (nullable = true)\n",
            " |-- Member type: string (nullable = true)\n",
            "\n",
            "201811-capitalbikeshare-tripdata.csv\n",
            "221057\n",
            "root\n",
            " |-- Duration: string (nullable = true)\n",
            " |-- Start date: string (nullable = true)\n",
            " |-- End date: string (nullable = true)\n",
            " |-- Start station number: string (nullable = true)\n",
            " |-- Start station: string (nullable = true)\n",
            " |-- End station number: string (nullable = true)\n",
            " |-- End station: string (nullable = true)\n",
            " |-- Bike number: string (nullable = true)\n",
            " |-- Member type: string (nullable = true)\n",
            "\n",
            "201812-capitalbikeshare-tripdata.csv\n",
            "158853\n",
            "root\n",
            " |-- Duration: string (nullable = true)\n",
            " |-- Start date: string (nullable = true)\n",
            " |-- End date: string (nullable = true)\n",
            " |-- Start station number: string (nullable = true)\n",
            " |-- Start station: string (nullable = true)\n",
            " |-- End station number: string (nullable = true)\n",
            " |-- End station: string (nullable = true)\n",
            " |-- Bike number: string (nullable = true)\n",
            " |-- Member type: string (nullable = true)\n",
            "\n",
            "201901-capitalbikeshare-tripdata.csv\n",
            "150780\n",
            "root\n",
            " |-- Duration: string (nullable = true)\n",
            " |-- Start date: string (nullable = true)\n",
            " |-- End date: string (nullable = true)\n",
            " |-- Start station number: string (nullable = true)\n",
            " |-- Start station: string (nullable = true)\n",
            " |-- End station number: string (nullable = true)\n",
            " |-- End station: string (nullable = true)\n",
            " |-- Bike number: string (nullable = true)\n",
            " |-- Member type: string (nullable = true)\n",
            "\n",
            "201902-capitalbikeshare-tripdata.csv\n",
            "158130\n",
            "root\n",
            " |-- Duration: string (nullable = true)\n",
            " |-- Start date: string (nullable = true)\n",
            " |-- End date: string (nullable = true)\n",
            " |-- Start station number: string (nullable = true)\n",
            " |-- Start station: string (nullable = true)\n",
            " |-- End station number: string (nullable = true)\n",
            " |-- End station: string (nullable = true)\n",
            " |-- Bike number: string (nullable = true)\n",
            " |-- Member type: string (nullable = true)\n",
            "\n",
            "201903-capitalbikeshare-tripdata.csv\n",
            "253811\n",
            "root\n",
            " |-- Duration: string (nullable = true)\n",
            " |-- Start date: string (nullable = true)\n",
            " |-- End date: string (nullable = true)\n",
            " |-- Start station number: string (nullable = true)\n",
            " |-- Start station: string (nullable = true)\n",
            " |-- End station number: string (nullable = true)\n",
            " |-- End station: string (nullable = true)\n",
            " |-- Bike number: string (nullable = true)\n",
            " |-- Member type: string (nullable = true)\n",
            "\n",
            "201904-capitalbikeshare-tripdata.csv\n",
            "347992\n",
            "root\n",
            " |-- Duration: string (nullable = true)\n",
            " |-- Start date: string (nullable = true)\n",
            " |-- End date: string (nullable = true)\n",
            " |-- Start station number: string (nullable = true)\n",
            " |-- Start station: string (nullable = true)\n",
            " |-- End station number: string (nullable = true)\n",
            " |-- End station: string (nullable = true)\n",
            " |-- Bike number: string (nullable = true)\n",
            " |-- Member type: string (nullable = true)\n",
            "\n",
            "201905-capitalbikeshare-tripdata.csv\n",
            "337704\n",
            "root\n",
            " |-- Duration: string (nullable = true)\n",
            " |-- Start date: string (nullable = true)\n",
            " |-- End date: string (nullable = true)\n",
            " |-- Start station number: string (nullable = true)\n",
            " |-- Start station: string (nullable = true)\n",
            " |-- End station number: string (nullable = true)\n",
            " |-- End station: string (nullable = true)\n",
            " |-- Bike number: string (nullable = true)\n",
            " |-- Member type: string (nullable = true)\n",
            "\n",
            "201906-capitalbikeshare-tripdata.csv\n",
            "350144\n",
            "root\n",
            " |-- Duration: string (nullable = true)\n",
            " |-- Start date: string (nullable = true)\n",
            " |-- End date: string (nullable = true)\n",
            " |-- Start station number: string (nullable = true)\n",
            " |-- Start station: string (nullable = true)\n",
            " |-- End station number: string (nullable = true)\n",
            " |-- End station: string (nullable = true)\n",
            " |-- Bike number: string (nullable = true)\n",
            " |-- Member type: string (nullable = true)\n",
            "\n",
            "201907-capitalbikeshare-tripdata.csv\n",
            "356645\n",
            "root\n",
            " |-- Duration: string (nullable = true)\n",
            " |-- Start date: string (nullable = true)\n",
            " |-- End date: string (nullable = true)\n",
            " |-- Start station number: string (nullable = true)\n",
            " |-- Start station: string (nullable = true)\n",
            " |-- End station number: string (nullable = true)\n",
            " |-- End station: string (nullable = true)\n",
            " |-- Bike number: string (nullable = true)\n",
            " |-- Member type: string (nullable = true)\n",
            "\n",
            "201908-capitalbikeshare-tripdata.csv\n",
            "360044\n",
            "root\n",
            " |-- Duration: string (nullable = true)\n",
            " |-- Start date: string (nullable = true)\n",
            " |-- End date: string (nullable = true)\n",
            " |-- Start station number: string (nullable = true)\n",
            " |-- Start station: string (nullable = true)\n",
            " |-- End station number: string (nullable = true)\n",
            " |-- End station: string (nullable = true)\n",
            " |-- Bike number: string (nullable = true)\n",
            " |-- Member type: string (nullable = true)\n",
            "\n",
            "201909-capitalbikeshare-tripdata.csv\n",
            "360225\n",
            "root\n",
            " |-- Duration: string (nullable = true)\n",
            " |-- Start date: string (nullable = true)\n",
            " |-- End date: string (nullable = true)\n",
            " |-- Start station number: string (nullable = true)\n",
            " |-- Start station: string (nullable = true)\n",
            " |-- End station number: string (nullable = true)\n",
            " |-- End station: string (nullable = true)\n",
            " |-- Bike number: string (nullable = true)\n",
            " |-- Member type: string (nullable = true)\n",
            "\n",
            "201910-capitalbikeshare-tripdata.csv\n",
            "337552\n",
            "root\n",
            " |-- Duration: string (nullable = true)\n",
            " |-- Start date: string (nullable = true)\n",
            " |-- End date: string (nullable = true)\n",
            " |-- Start station number: string (nullable = true)\n",
            " |-- Start station: string (nullable = true)\n",
            " |-- End station number: string (nullable = true)\n",
            " |-- End station: string (nullable = true)\n",
            " |-- Bike number: string (nullable = true)\n",
            " |-- Member type: string (nullable = true)\n",
            "\n",
            "201911-capitalbikeshare-tripdata.csv\n",
            "223512\n",
            "root\n",
            " |-- Duration: string (nullable = true)\n",
            " |-- Start date: string (nullable = true)\n",
            " |-- End date: string (nullable = true)\n",
            " |-- Start station number: string (nullable = true)\n",
            " |-- Start station: string (nullable = true)\n",
            " |-- End station number: string (nullable = true)\n",
            " |-- End station: string (nullable = true)\n",
            " |-- Bike number: string (nullable = true)\n",
            " |-- Member type: string (nullable = true)\n",
            "\n",
            "201912-capitalbikeshare-tripdata.csv\n",
            "161878\n",
            "root\n",
            " |-- Duration: string (nullable = true)\n",
            " |-- Start date: string (nullable = true)\n",
            " |-- End date: string (nullable = true)\n",
            " |-- Start station number: string (nullable = true)\n",
            " |-- Start station: string (nullable = true)\n",
            " |-- End station number: string (nullable = true)\n",
            " |-- End station: string (nullable = true)\n",
            " |-- Bike number: string (nullable = true)\n",
            " |-- Member type: string (nullable = true)\n",
            "\n",
            "202001-capitalbikeshare-tripdata.csv\n",
            "196969\n",
            "root\n",
            " |-- Duration: string (nullable = true)\n",
            " |-- Start date: string (nullable = true)\n",
            " |-- End date: string (nullable = true)\n",
            " |-- Start station number: string (nullable = true)\n",
            " |-- Start station: string (nullable = true)\n",
            " |-- End station number: string (nullable = true)\n",
            " |-- End station: string (nullable = true)\n",
            " |-- Bike number: string (nullable = true)\n",
            " |-- Member type: string (nullable = true)\n",
            "\n",
            "202002-capitalbikeshare-tripdata.csv\n",
            "177901\n",
            "root\n",
            " |-- Duration: string (nullable = true)\n",
            " |-- Start date: string (nullable = true)\n",
            " |-- End date: string (nullable = true)\n",
            " |-- Start station number: string (nullable = true)\n",
            " |-- Start station: string (nullable = true)\n",
            " |-- End station number: string (nullable = true)\n",
            " |-- End station: string (nullable = true)\n",
            " |-- Bike number: string (nullable = true)\n",
            " |-- Member type: string (nullable = true)\n",
            "\n",
            "202003-capitalbikeshare-tripdata.csv\n",
            "162530\n",
            "root\n",
            " |-- Duration: string (nullable = true)\n",
            " |-- Start date: string (nullable = true)\n",
            " |-- End date: string (nullable = true)\n",
            " |-- Start station number: string (nullable = true)\n",
            " |-- Start station: string (nullable = true)\n",
            " |-- End station number: string (nullable = true)\n",
            " |-- End station: string (nullable = true)\n",
            " |-- Bike number: string (nullable = true)\n",
            " |-- Member type: string (nullable = true)\n",
            "\n",
            "202005-capitalbikeshare-tripdata.csv\n",
            "149051\n",
            "root\n",
            " |-- ride_id: string (nullable = true)\n",
            " |-- rideable_type: string (nullable = true)\n",
            " |-- started_at: string (nullable = true)\n",
            " |-- ended_at: string (nullable = true)\n",
            " |-- start_station_name: string (nullable = true)\n",
            " |-- start_station_id: string (nullable = true)\n",
            " |-- end_station_name: string (nullable = true)\n",
            " |-- end_station_id: string (nullable = true)\n",
            " |-- start_lat: string (nullable = true)\n",
            " |-- start_lng: string (nullable = true)\n",
            " |-- end_lat: string (nullable = true)\n",
            " |-- end_lng: string (nullable = true)\n",
            " |-- member_casual: string (nullable = true)\n",
            "\n",
            "202006-capitalbikeshare-tripdata.csv\n",
            "214047\n",
            "root\n",
            " |-- ride_id: string (nullable = true)\n",
            " |-- rideable_type: string (nullable = true)\n",
            " |-- started_at: string (nullable = true)\n",
            " |-- ended_at: string (nullable = true)\n",
            " |-- start_station_name: string (nullable = true)\n",
            " |-- start_station_id: string (nullable = true)\n",
            " |-- end_station_name: string (nullable = true)\n",
            " |-- end_station_id: string (nullable = true)\n",
            " |-- start_lat: string (nullable = true)\n",
            " |-- start_lng: string (nullable = true)\n",
            " |-- end_lat: string (nullable = true)\n",
            " |-- end_lng: string (nullable = true)\n",
            " |-- member_casual: string (nullable = true)\n",
            "\n",
            "202007-capitalbikeshare-tripdata.csv\n",
            "228347\n",
            "root\n",
            " |-- ride_id: string (nullable = true)\n",
            " |-- rideable_type: string (nullable = true)\n",
            " |-- started_at: string (nullable = true)\n",
            " |-- ended_at: string (nullable = true)\n",
            " |-- start_station_name: string (nullable = true)\n",
            " |-- start_station_id: string (nullable = true)\n",
            " |-- end_station_name: string (nullable = true)\n",
            " |-- end_station_id: string (nullable = true)\n",
            " |-- start_lat: string (nullable = true)\n",
            " |-- start_lng: string (nullable = true)\n",
            " |-- end_lat: string (nullable = true)\n",
            " |-- end_lng: string (nullable = true)\n",
            " |-- member_casual: string (nullable = true)\n",
            "\n",
            "202008-capitalbikeshare-tripdata.csv\n",
            "251603\n",
            "root\n",
            " |-- ride_id: string (nullable = true)\n",
            " |-- rideable_type: string (nullable = true)\n",
            " |-- started_at: string (nullable = true)\n",
            " |-- ended_at: string (nullable = true)\n",
            " |-- start_station_name: string (nullable = true)\n",
            " |-- start_station_id: string (nullable = true)\n",
            " |-- end_station_name: string (nullable = true)\n",
            " |-- end_station_id: string (nullable = true)\n",
            " |-- start_lat: string (nullable = true)\n",
            " |-- start_lng: string (nullable = true)\n",
            " |-- end_lat: string (nullable = true)\n",
            " |-- end_lng: string (nullable = true)\n",
            " |-- member_casual: string (nullable = true)\n",
            "\n",
            "202009-capitalbikeshare-tripdata.csv\n",
            "249899\n",
            "root\n",
            " |-- ride_id: string (nullable = true)\n",
            " |-- rideable_type: string (nullable = true)\n",
            " |-- started_at: string (nullable = true)\n",
            " |-- ended_at: string (nullable = true)\n",
            " |-- start_station_name: string (nullable = true)\n",
            " |-- start_station_id: string (nullable = true)\n",
            " |-- end_station_name: string (nullable = true)\n",
            " |-- end_station_id: string (nullable = true)\n",
            " |-- start_lat: string (nullable = true)\n",
            " |-- start_lng: string (nullable = true)\n",
            " |-- end_lat: string (nullable = true)\n",
            " |-- end_lng: string (nullable = true)\n",
            " |-- member_casual: string (nullable = true)\n",
            "\n",
            "202010-capitalbikeshare-tripdata.csv\n",
            "229832\n",
            "root\n",
            " |-- ride_id: string (nullable = true)\n",
            " |-- rideable_type: string (nullable = true)\n",
            " |-- started_at: string (nullable = true)\n",
            " |-- ended_at: string (nullable = true)\n",
            " |-- start_station_name: string (nullable = true)\n",
            " |-- start_station_id: string (nullable = true)\n",
            " |-- end_station_name: string (nullable = true)\n",
            " |-- end_station_id: string (nullable = true)\n",
            " |-- start_lat: string (nullable = true)\n",
            " |-- start_lng: string (nullable = true)\n",
            " |-- end_lat: string (nullable = true)\n",
            " |-- end_lng: string (nullable = true)\n",
            " |-- member_casual: string (nullable = true)\n",
            "\n",
            "202011-capitalbikeshare-tripdata.csv\n",
            "175435\n",
            "root\n",
            " |-- ride_id: string (nullable = true)\n",
            " |-- rideable_type: string (nullable = true)\n",
            " |-- started_at: string (nullable = true)\n",
            " |-- ended_at: string (nullable = true)\n",
            " |-- start_station_name: string (nullable = true)\n",
            " |-- start_station_id: string (nullable = true)\n",
            " |-- end_station_name: string (nullable = true)\n",
            " |-- end_station_id: string (nullable = true)\n",
            " |-- start_lat: string (nullable = true)\n",
            " |-- start_lng: string (nullable = true)\n",
            " |-- end_lat: string (nullable = true)\n",
            " |-- end_lng: string (nullable = true)\n",
            " |-- member_casual: string (nullable = true)\n",
            "\n",
            "202012-capitalbikeshare-tripdata.csv\n",
            "105829\n",
            "root\n",
            " |-- ride_id: string (nullable = true)\n",
            " |-- rideable_type: string (nullable = true)\n",
            " |-- started_at: string (nullable = true)\n",
            " |-- ended_at: string (nullable = true)\n",
            " |-- start_station_name: string (nullable = true)\n",
            " |-- start_station_id: string (nullable = true)\n",
            " |-- end_station_name: string (nullable = true)\n",
            " |-- end_station_id: string (nullable = true)\n",
            " |-- start_lat: string (nullable = true)\n",
            " |-- start_lng: string (nullable = true)\n",
            " |-- end_lat: string (nullable = true)\n",
            " |-- end_lng: string (nullable = true)\n",
            " |-- member_casual: string (nullable = true)\n",
            "\n",
            "202101-capitalbikeshare-tripdata.csv\n",
            "100070\n",
            "root\n",
            " |-- ride_id: string (nullable = true)\n",
            " |-- rideable_type: string (nullable = true)\n",
            " |-- started_at: string (nullable = true)\n",
            " |-- ended_at: string (nullable = true)\n",
            " |-- start_station_name: string (nullable = true)\n",
            " |-- start_station_id: string (nullable = true)\n",
            " |-- end_station_name: string (nullable = true)\n",
            " |-- end_station_id: string (nullable = true)\n",
            " |-- start_lat: string (nullable = true)\n",
            " |-- start_lng: string (nullable = true)\n",
            " |-- end_lat: string (nullable = true)\n",
            " |-- end_lng: string (nullable = true)\n",
            " |-- member_casual: string (nullable = true)\n",
            "\n",
            "202102-capitalbikeshare-tripdata.csv\n",
            "77505\n",
            "root\n",
            " |-- ride_id: string (nullable = true)\n",
            " |-- rideable_type: string (nullable = true)\n",
            " |-- started_at: string (nullable = true)\n",
            " |-- ended_at: string (nullable = true)\n",
            " |-- start_station_name: string (nullable = true)\n",
            " |-- start_station_id: string (nullable = true)\n",
            " |-- end_station_name: string (nullable = true)\n",
            " |-- end_station_id: string (nullable = true)\n",
            " |-- start_lat: string (nullable = true)\n",
            " |-- start_lng: string (nullable = true)\n",
            " |-- end_lat: string (nullable = true)\n",
            " |-- end_lng: string (nullable = true)\n",
            " |-- member_casual: string (nullable = true)\n",
            "\n",
            "202103-capitalbikeshare-tripdata.csv\n",
            "171165\n",
            "root\n",
            " |-- ride_id: string (nullable = true)\n",
            " |-- rideable_type: string (nullable = true)\n",
            " |-- started_at: string (nullable = true)\n",
            " |-- ended_at: string (nullable = true)\n",
            " |-- start_station_name: string (nullable = true)\n",
            " |-- start_station_id: string (nullable = true)\n",
            " |-- end_station_name: string (nullable = true)\n",
            " |-- end_station_id: string (nullable = true)\n",
            " |-- start_lat: string (nullable = true)\n",
            " |-- start_lng: string (nullable = true)\n",
            " |-- end_lat: string (nullable = true)\n",
            " |-- end_lng: string (nullable = true)\n",
            " |-- member_casual: string (nullable = true)\n",
            "\n",
            "202104-capitalbikeshare-tripdata.csv\n",
            "216763\n",
            "root\n",
            " |-- ride_id: string (nullable = true)\n",
            " |-- rideable_type: string (nullable = true)\n",
            " |-- started_at: string (nullable = true)\n",
            " |-- ended_at: string (nullable = true)\n",
            " |-- start_station_name: string (nullable = true)\n",
            " |-- start_station_id: string (nullable = true)\n",
            " |-- end_station_name: string (nullable = true)\n",
            " |-- end_station_id: string (nullable = true)\n",
            " |-- start_lat: string (nullable = true)\n",
            " |-- start_lng: string (nullable = true)\n",
            " |-- end_lat: string (nullable = true)\n",
            " |-- end_lng: string (nullable = true)\n",
            " |-- member_casual: string (nullable = true)\n",
            "\n",
            "202105-capitalbikeshare-tripdata.csv\n",
            "254177\n",
            "root\n",
            " |-- ride_id: string (nullable = true)\n",
            " |-- rideable_type: string (nullable = true)\n",
            " |-- started_at: string (nullable = true)\n",
            " |-- ended_at: string (nullable = true)\n",
            " |-- start_station_name: string (nullable = true)\n",
            " |-- start_station_id: string (nullable = true)\n",
            " |-- end_station_name: string (nullable = true)\n",
            " |-- end_station_id: string (nullable = true)\n",
            " |-- start_lat: string (nullable = true)\n",
            " |-- start_lng: string (nullable = true)\n",
            " |-- end_lat: string (nullable = true)\n",
            " |-- end_lng: string (nullable = true)\n",
            " |-- member_casual: string (nullable = true)\n",
            "\n"
          ],
          "name": "stdout"
        }
      ]
    },
    {
      "cell_type": "code",
      "metadata": {
        "id": "4sUD6fOQoWte"
      },
      "source": [
        "# two observations\n",
        "# April, 2020 Data is not available. Most likely due to country-wide covid lockdown\n",
        "# Schema is different from May, 2021"
      ],
      "execution_count": null,
      "outputs": []
    },
    {
      "cell_type": "code",
      "metadata": {
        "id": "ZldyoKuCvYVE"
      },
      "source": [
        "import shutil, os\n",
        "#move all the newer files from may 2020 which have a new schema in new directory \n",
        "os.mkdir(\"//content/gdrive/My Drive/Udacity/new\")\n",
        "\n",
        "for f in all_files[-13:]:\n",
        "    shutil.move(f, '//content/gdrive/My Drive/Udacity/new')\n"
      ],
      "execution_count": null,
      "outputs": []
    },
    {
      "cell_type": "code",
      "metadata": {
        "id": "jFP1B6HIza8G"
      },
      "source": [
        "# move all the older files with old schema until march 2020 in old directory \n",
        "os.mkdir(\"//content/gdrive/My Drive/Udacity/old\")\n",
        "\n",
        "for f in all_files[:-13]:\n",
        "    shutil.move(f, '//content/gdrive/My Drive/Udacity/old')"
      ],
      "execution_count": null,
      "outputs": []
    },
    {
      "cell_type": "code",
      "metadata": {
        "id": "1B_ivpYj3grs"
      },
      "source": [
        "TRIP_DATA_FOLDER = \"./gdrive/My Drive/Udacity/\"\n",
        "TRIP_DATA_PATHS_NEW = os.path.join(TRIP_DATA_FOLDER, \"new/*.csv\")\n",
        "TRIP_DATA_PATHS_OLD = os.path.join(TRIP_DATA_FOLDER, \"old/*.csv\")"
      ],
      "execution_count": null,
      "outputs": []
    },
    {
      "cell_type": "code",
      "metadata": {
        "colab": {
          "base_uri": "https://localhost:8080/",
          "height": 35
        },
        "id": "OEl-ET5o4LJu",
        "outputId": "2ea655e1-f858-47e0-9868-f0120f70ee57"
      },
      "source": [
        "TRIP_DATA_PATHS_NEW"
      ],
      "execution_count": null,
      "outputs": [
        {
          "output_type": "execute_result",
          "data": {
            "application/vnd.google.colaboratory.intrinsic+json": {
              "type": "string"
            },
            "text/plain": [
              "'./gdrive/My Drive/Udacity/new/*.csv'"
            ]
          },
          "metadata": {
            "tags": []
          },
          "execution_count": 37
        }
      ]
    },
    {
      "cell_type": "code",
      "metadata": {
        "colab": {
          "base_uri": "https://localhost:8080/"
        },
        "id": "yQrFsbIQ4Ms9",
        "outputId": "aaed8a9a-b91d-4d7b-ff09-ac1bf6dd5ccc"
      },
      "source": [
        "#read all the csvs in the new folder and store it to a dataframe \n",
        "from pyspark.sql.types import (\n",
        "    BooleanType, DateType, DoubleType, IntegerType, LongType, StringType, StructField, StructType, TimestampType\n",
        ")\n",
        "from pyspark.sql import functions as F\n",
        "\n",
        "import matplotlib.pyplot as plt\n",
        "\n",
        "trip_data_new_schema = StructType([\n",
        "    StructField('ride_id', StringType()),\n",
        "    StructField('rideable_type', StringType()),\n",
        "    StructField('started_at', TimestampType()),\n",
        "    StructField('ended_at', TimestampType()),\n",
        "    StructField('start_station_name', StringType()),\n",
        "    StructField('start_station_id', StringType()),\n",
        "    StructField('end_station_name', StringType()),\n",
        "    StructField('end_station_id', LongType()),\n",
        "    StructField('start_lat', DoubleType()),\n",
        "    StructField('start_lng', DoubleType()),\n",
        "    StructField('end_lat', DoubleType()),\n",
        "    StructField('end_lng', DoubleType()),\n",
        "    StructField(\"member_casual\", StringType())\n",
        "])\n",
        "\n",
        "trip_data_new = spark.read.csv(TRIP_DATA_PATHS_NEW, header=True, schema=trip_data_new_schema)\n",
        "trip_data_new.show(5)\n",
        "\n",
        "trip_data_new.printSchema()\n",
        "\n",
        "print(\"Total number new records: \", trip_data_new.count())"
      ],
      "execution_count": null,
      "outputs": [
        {
          "output_type": "stream",
          "text": [
            "+----------------+-------------+-------------------+-------------------+--------------------+----------------+--------------------+--------------+------------------+------------------+-----------------+----------+-------------+\n",
            "|         ride_id|rideable_type|         started_at|           ended_at|  start_station_name|start_station_id|    end_station_name|end_station_id|         start_lat|         start_lng|          end_lat|   end_lng|member_casual|\n",
            "+----------------+-------------+-------------------+-------------------+--------------------+----------------+--------------------+--------------+------------------+------------------+-----------------+----------+-------------+\n",
            "|1302CB1BFE4F8E3D|electric_bike|2021-05-22 10:58:32|2021-05-22 11:26:44|Lincoln Park / 13...|           31619|Potomac & Pennsyl...|         31606|38.890450333333334|-76.98834816666667|38.88035983333333|-76.986171|       member|\n",
            "|03C23D7BE25C6958| classic_bike|2021-05-15 17:01:17|2021-05-15 17:09:05|Lincoln Park / 13...|           31619|Potomac & Pennsyl...|         31606|         38.890461|        -76.988355|          38.8803|  -76.9862|       member|\n",
            "|66B265EE25EC3DD2| classic_bike|2021-05-11 09:53:13|2021-05-11 09:56:56|      14th & Q St NW|           31327|      15th & L St NW|         31276|         38.910674|         -77.03188|        38.903649|-77.034918|       member|\n",
            "|D0940E18D9D0F2CA| classic_bike|2021-05-31 19:43:13|2021-05-31 20:10:05| Maple & Ritchie Ave|           32011|East West Hwy & 1...|         32056|         38.983627|        -77.006311|        38.995681|-77.038721|       member|\n",
            "|080BF56B6D0CDD7E| classic_bike|2021-05-15 15:47:30|2021-05-15 16:03:31|       7th & S St NW|           31130|Columbus Circle /...|         31623|  38.9142043187298| -77.0221745967865|         38.89696| -77.00493|       member|\n",
            "+----------------+-------------+-------------------+-------------------+--------------------+----------------+--------------------+--------------+------------------+------------------+-----------------+----------+-------------+\n",
            "only showing top 5 rows\n",
            "\n",
            "root\n",
            " |-- ride_id: string (nullable = true)\n",
            " |-- rideable_type: string (nullable = true)\n",
            " |-- started_at: timestamp (nullable = true)\n",
            " |-- ended_at: timestamp (nullable = true)\n",
            " |-- start_station_name: string (nullable = true)\n",
            " |-- start_station_id: string (nullable = true)\n",
            " |-- end_station_name: string (nullable = true)\n",
            " |-- end_station_id: long (nullable = true)\n",
            " |-- start_lat: double (nullable = true)\n",
            " |-- start_lng: double (nullable = true)\n",
            " |-- end_lat: double (nullable = true)\n",
            " |-- end_lng: double (nullable = true)\n",
            " |-- member_casual: string (nullable = true)\n",
            "\n",
            "Total number new records:  2423723\n"
          ],
          "name": "stdout"
        }
      ]
    },
    {
      "cell_type": "code",
      "metadata": {
        "colab": {
          "base_uri": "https://localhost:8080/"
        },
        "id": "TfOJ5xeb4YTf",
        "outputId": "cf075821-2a02-4d22-d046-3f68c4eb165d"
      },
      "source": [
        "#read all the csvs in the old folder and store it to a dataframe \n",
        "trip_data_old_schema = StructType([\n",
        "    StructField('Duration', DoubleType()),\n",
        "    StructField('Start date', TimestampType()),\n",
        "    StructField('End date', TimestampType()),\n",
        "    StructField('Start station number', StringType()),\n",
        "    StructField('Start station', StringType()),\n",
        "    StructField('End station number', StringType()),\n",
        "    StructField('End station', StringType()),\n",
        "    StructField('Bike number', StringType()),\n",
        "    StructField(\"Member type\", StringType())\n",
        "])\n",
        "\n",
        "trip_data_old = spark.read.csv(TRIP_DATA_PATHS_OLD, header=True, schema=trip_data_old_schema)\n",
        "trip_data_old.show(5)\n",
        "\n",
        "trip_data_old.printSchema()\n",
        "\n",
        "print(\"Total number of old records: \", trip_data_old.count())"
      ],
      "execution_count": null,
      "outputs": [
        {
          "output_type": "stream",
          "text": [
            "+--------+-------------------+-------------------+--------------------+--------------------+------------------+--------------------+-----------+-----------+\n",
            "|Duration|         Start date|           End date|Start station number|       Start station|End station number|         End station|Bike number|Member type|\n",
            "+--------+-------------------+-------------------+--------------------+--------------------+------------------+--------------------+-----------+-----------+\n",
            "|  3548.0|2011-01-01 00:01:29|2011-01-01 01:00:37|               31620|       5th & F St NW|             31620|       5th & F St NW|     W00247|     Member|\n",
            "|   346.0|2011-01-01 00:02:46|2011-01-01 00:08:32|               31105|14th & Harvard St NW|             31101|      14th & V St NW|     W00675|     Casual|\n",
            "|   562.0|2011-01-01 00:06:13|2011-01-01 00:15:36|               31400|Georgia & New Ham...|             31104|Adams Mill & Colu...|     W00357|     Member|\n",
            "|   434.0|2011-01-01 00:09:21|2011-01-01 00:16:36|               31111|      10th & U St NW|             31503|Florida Ave & R S...|     W00970|     Member|\n",
            "|   233.0|2011-01-01 00:28:26|2011-01-01 00:32:19|               31104|Adams Mill & Colu...|             31106|Calvert & Biltmor...|     W00346|     Casual|\n",
            "+--------+-------------------+-------------------+--------------------+--------------------+------------------+--------------------+-----------+-----------+\n",
            "only showing top 5 rows\n",
            "\n",
            "root\n",
            " |-- Duration: double (nullable = true)\n",
            " |-- Start date: timestamp (nullable = true)\n",
            " |-- End date: timestamp (nullable = true)\n",
            " |-- Start station number: string (nullable = true)\n",
            " |-- Start station: string (nullable = true)\n",
            " |-- End station number: string (nullable = true)\n",
            " |-- End station: string (nullable = true)\n",
            " |-- Bike number: string (nullable = true)\n",
            " |-- Member type: string (nullable = true)\n",
            "\n",
            "Total number of old records:  26596144\n"
          ],
          "name": "stdout"
        }
      ]
    },
    {
      "cell_type": "code",
      "metadata": {
        "id": "AQrAJPqA4zX_"
      },
      "source": [
        "import os.path as osp\n",
        "from datetime import datetime\n",
        "\n",
        "import pyspark\n",
        "from pyspark.sql import SparkSession\n",
        "from pyspark.sql.types import (\n",
        "    BooleanType, DateType, DoubleType, IntegerType, LongType, StringType, StructField, StructType, TimestampType\n",
        ")\n",
        "from pyspark.sql import functions as F\n",
        "\n",
        "import matplotlib.pyplot as plt"
      ],
      "execution_count": null,
      "outputs": []
    },
    {
      "cell_type": "code",
      "metadata": {
        "colab": {
          "base_uri": "https://localhost:8080/"
        },
        "id": "Tj4DRON6M7UL",
        "outputId": "3f1c9d69-37ae-4d41-d9c4-4b7b7bbafb6e"
      },
      "source": [
        "# create a new station dataframe of all stations from old schema and new schema  \n",
        "station_data = trip_data_old.select(F.col(\"Start station number\").alias(\"station_id\"),\n",
        "                                    F.col(\"Start station\").alias(\"station_name\")).distinct().union(\n",
        "    trip_data_old.select(\"End station number\", \"End station\").distinct()).union(\n",
        "    trip_data_new.select(\"start_station_id\", \"start_station_name\").distinct()).union(\n",
        "    trip_data_new.select(\"end_station_id\", \"end_station_name\").distinct()).distinct().sort(\"station_id\", ascending=True).dropna(\n",
        "    how=\"any\", subset=[\"station_id\"]).filter(F.col(\"station_id\") != \"00000\").dropDuplicates(subset=[\"station_id\"])\n",
        "\n",
        "print(\"Total number of stations: \", station_data.count())\n",
        "\n",
        "station_data.show(5, truncate=False)\n",
        "\n",
        "station_data.printSchema()"
      ],
      "execution_count": null,
      "outputs": [
        {
          "output_type": "stream",
          "text": [
            "Total number of stations:  641\n",
            "+----------+------------------------------------------+\n",
            "|station_id|station_name                              |\n",
            "+----------+------------------------------------------+\n",
            "|31000     |Eads St & 15th St S                       |\n",
            "|31001     |18th & Eads St.                           |\n",
            "|31002     |20th & Crystal Dr                         |\n",
            "|31003     |Crystal Dr & 15th St S                    |\n",
            "|31004     |Aurora Hills Community Ctr/18th & Hayes St|\n",
            "+----------+------------------------------------------+\n",
            "only showing top 5 rows\n",
            "\n",
            "root\n",
            " |-- station_id: string (nullable = true)\n",
            " |-- station_name: string (nullable = true)\n",
            "\n"
          ],
          "name": "stdout"
        }
      ]
    },
    {
      "cell_type": "code",
      "metadata": {
        "colab": {
          "base_uri": "https://localhost:8080/"
        },
        "id": "Cz9QoHFqNEhb",
        "outputId": "d9491a11-3d98-473d-fa6a-966dd2b56141"
      },
      "source": [
        "# create a new trips dataframe of all trips data from old schema and new schema  \n",
        "trip_data = trip_data_old.select(F.lit(None).alias(\"ride_id\").cast(StringType()),\n",
        "                                 F.lit(None).alias(\"rideable_type\").cast(StringType()),\n",
        "                                 F.col(\"Start date\").alias(\"started_at\"),\n",
        "                                 F.col(\"End date\").alias(\"ended_at\"),\n",
        "                                 F.col(\"Start station number\").alias(\"start_station_id\"),\n",
        "                                 F.col(\"End station number\").alias(\"end_station_id\"),\n",
        "                                 F.col(\"Member type\").alias(\"member_casual\")).union(\n",
        "    trip_data_new.select(\"ride_id\", \"rideable_type\", \"started_at\", \"ended_at\", \"start_station_id\", \"end_station_id\", \"member_casual\"))\n",
        "\n",
        "\n",
        "# Clean up.\n",
        "trip_data = trip_data.dropna(how=\"any\", subset=[\"start_station_id\", \"end_station_id\"]).filter(\n",
        "    (F.col(\"start_station_id\") != \"00000\") & (F.col(\"end_station_id\") != \"00000\"))\n",
        "\n",
        "# Add primary key \"tid\" and foreign key \"start_date\".\n",
        "# FIXME: monotonically_increase_id() does not return a sequence!\n",
        "trip_data = trip_data.withColumn(\"tid\", F.monotonically_increasing_id()).withColumn(\"start_date\", F.to_date(F.col(\"started_at\")))\n",
        "\n",
        "print(\"Total number of records: \", trip_data.count())\n",
        "\n",
        "trip_data.show(5)\n",
        "\n",
        "trip_data.printSchema()"
      ],
      "execution_count": null,
      "outputs": [
        {
          "output_type": "stream",
          "text": [
            "Total number of records:  28776080\n",
            "+-------+-------------+-------------------+-------------------+----------------+--------------+-------------+---+----------+\n",
            "|ride_id|rideable_type|         started_at|           ended_at|start_station_id|end_station_id|member_casual|tid|start_date|\n",
            "+-------+-------------+-------------------+-------------------+----------------+--------------+-------------+---+----------+\n",
            "|   null|         null|2011-01-01 00:01:29|2011-01-01 01:00:37|           31620|         31620|       Member|  0|2011-01-01|\n",
            "|   null|         null|2011-01-01 00:02:46|2011-01-01 00:08:32|           31105|         31101|       Casual|  1|2011-01-01|\n",
            "|   null|         null|2011-01-01 00:06:13|2011-01-01 00:15:36|           31400|         31104|       Member|  2|2011-01-01|\n",
            "|   null|         null|2011-01-01 00:09:21|2011-01-01 00:16:36|           31111|         31503|       Member|  3|2011-01-01|\n",
            "|   null|         null|2011-01-01 00:28:26|2011-01-01 00:32:19|           31104|         31106|       Casual|  4|2011-01-01|\n",
            "+-------+-------------+-------------------+-------------------+----------------+--------------+-------------+---+----------+\n",
            "only showing top 5 rows\n",
            "\n",
            "root\n",
            " |-- ride_id: string (nullable = true)\n",
            " |-- rideable_type: string (nullable = true)\n",
            " |-- started_at: timestamp (nullable = true)\n",
            " |-- ended_at: timestamp (nullable = true)\n",
            " |-- start_station_id: string (nullable = true)\n",
            " |-- end_station_id: string (nullable = true)\n",
            " |-- member_casual: string (nullable = true)\n",
            " |-- tid: long (nullable = false)\n",
            " |-- start_date: date (nullable = true)\n",
            "\n"
          ],
          "name": "stdout"
        }
      ]
    },
    {
      "cell_type": "code",
      "metadata": {
        "id": "2lNpQRegfAw8"
      },
      "source": [
        "#create an ouput directory to store processed table data \n",
        "os.mkdir(\"//content/gdrive/My Drive/Udacity/output_data\")"
      ],
      "execution_count": null,
      "outputs": []
    },
    {
      "cell_type": "code",
      "metadata": {
        "id": "YVXlFyxdeGJ4"
      },
      "source": [
        " #set the outpur directory \n",
        " output_data_dir = '/content/gdrive/My Drive/Udacity/output_data/'\n",
        "\n",
        "    # write songs table to parquet files partitioned by year and artist\n",
        "station_data_out_path = str(output_data_dir  + 'station_data.parquet')\n",
        "station_data.write.parquet(station_data_out_path, mode='overwrite')\n",
        "\n",
        "    # write artists table to parquet files\n",
        "trip_data_out_path = str(output_data_dir + 'trip_data.parquet')\n",
        "trip_data.write.parquet(trip_data_out_path, mode='overwrite', partitionBy=['start_station_id'])"
      ],
      "execution_count": null,
      "outputs": []
    },
    {
      "cell_type": "code",
      "metadata": {
        "colab": {
          "base_uri": "https://localhost:8080/"
        },
        "id": "PuYK5y2wkLOf",
        "outputId": "26e7c8e7-b5f3-45c4-90eb-1ce9e6d96b3b"
      },
      "source": [
        "#check the file creation \n",
        "!ls /content/gdrive/My Drive/Udacity/output_data"
      ],
      "execution_count": null,
      "outputs": [
        {
          "output_type": "stream",
          "text": [
            "ls: cannot access '/content/gdrive/My': No such file or directory\n",
            "ls: cannot access 'Drive/Udacity/output_data': No such file or directory\n"
          ],
          "name": "stdout"
        }
      ]
    },
    {
      "cell_type": "code",
      "metadata": {
        "id": "XqnuhnNzkdr_"
      },
      "source": [
        "!mv '/content/output_data/trip_data.parquet' '/content/gdrive/My Drive/Kaggle Data'"
      ],
      "execution_count": null,
      "outputs": []
    },
    {
      "cell_type": "code",
      "metadata": {
        "id": "2BztQbgeO5e_"
      },
      "source": [
        "import json\n",
        "import requests\n",
        "  \n",
        "# store the URL in url as \n",
        "# parameter for urlopen\n",
        "url = \"https://api.covidtracking.com/v1/states/daily.json\"\n",
        "  \n",
        "# store the response of URL\n",
        "response = requests.get(url)\n",
        "  \n",
        "# storing the JSON response \n",
        "# from url in data\n",
        "data_json = json.loads(response.text)\n",
        "  \n"
      ],
      "execution_count": null,
      "outputs": []
    },
    {
      "cell_type": "code",
      "metadata": {
        "colab": {
          "base_uri": "https://localhost:8080/"
        },
        "id": "BLfC2go0UskC",
        "outputId": "bc582c04-7c9f-4fb0-8def-d1df9cb38f53"
      },
      "source": [
        "data_json == response.json()\n",
        "type(data_json)\n",
        "data_json[:10]"
      ],
      "execution_count": null,
      "outputs": [
        {
          "output_type": "execute_result",
          "data": {
            "text/plain": [
              "[{'checkTimeEt': '03/04 22:59',\n",
              "  'commercialScore': 0,\n",
              "  'dataQualityGrade': None,\n",
              "  'date': 20210307,\n",
              "  'dateChecked': '2021-03-05T03:59:00Z',\n",
              "  'dateModified': '2021-03-05T03:59:00Z',\n",
              "  'death': 305,\n",
              "  'deathConfirmed': None,\n",
              "  'deathIncrease': 0,\n",
              "  'deathProbable': None,\n",
              "  'fips': '02',\n",
              "  'grade': '',\n",
              "  'hash': 'dc4bccd4bb885349d7e94d6fed058e285d4be164',\n",
              "  'hospitalized': 1293,\n",
              "  'hospitalizedCumulative': 1293,\n",
              "  'hospitalizedCurrently': 33,\n",
              "  'hospitalizedDischarged': None,\n",
              "  'hospitalizedIncrease': 0,\n",
              "  'inIcuCumulative': None,\n",
              "  'inIcuCurrently': None,\n",
              "  'lastUpdateEt': '3/5/2021 03:59',\n",
              "  'negative': None,\n",
              "  'negativeIncrease': 0,\n",
              "  'negativeRegularScore': 0,\n",
              "  'negativeScore': 0,\n",
              "  'negativeTestsAntibody': None,\n",
              "  'negativeTestsPeopleAntibody': None,\n",
              "  'negativeTestsViral': 1660758,\n",
              "  'onVentilatorCumulative': None,\n",
              "  'onVentilatorCurrently': 2,\n",
              "  'pending': None,\n",
              "  'posNeg': 56886,\n",
              "  'positive': 56886,\n",
              "  'positiveCasesViral': None,\n",
              "  'positiveIncrease': 0,\n",
              "  'positiveScore': 0,\n",
              "  'positiveTestsAntibody': None,\n",
              "  'positiveTestsAntigen': None,\n",
              "  'positiveTestsPeopleAntibody': None,\n",
              "  'positiveTestsPeopleAntigen': None,\n",
              "  'positiveTestsViral': 68693,\n",
              "  'probableCases': None,\n",
              "  'recovered': None,\n",
              "  'score': 0,\n",
              "  'state': 'AK',\n",
              "  'total': 56886,\n",
              "  'totalTestEncountersViral': None,\n",
              "  'totalTestResults': 1731628,\n",
              "  'totalTestResultsIncrease': 0,\n",
              "  'totalTestResultsSource': 'totalTestsViral',\n",
              "  'totalTestsAntibody': None,\n",
              "  'totalTestsAntigen': None,\n",
              "  'totalTestsPeopleAntibody': None,\n",
              "  'totalTestsPeopleAntigen': None,\n",
              "  'totalTestsPeopleViral': None,\n",
              "  'totalTestsViral': 1731628},\n",
              " {'checkTimeEt': '03/07 06:00',\n",
              "  'commercialScore': 0,\n",
              "  'dataQualityGrade': None,\n",
              "  'date': 20210307,\n",
              "  'dateChecked': '2021-03-07T11:00:00Z',\n",
              "  'dateModified': '2021-03-07T11:00:00Z',\n",
              "  'death': 10148,\n",
              "  'deathConfirmed': 7963,\n",
              "  'deathIncrease': -1,\n",
              "  'deathProbable': 2185,\n",
              "  'fips': '01',\n",
              "  'grade': '',\n",
              "  'hash': '997207b430824ea40b8eb8506c19a93e07bc972e',\n",
              "  'hospitalized': 45976,\n",
              "  'hospitalizedCumulative': 45976,\n",
              "  'hospitalizedCurrently': 494,\n",
              "  'hospitalizedDischarged': None,\n",
              "  'hospitalizedIncrease': 0,\n",
              "  'inIcuCumulative': 2676,\n",
              "  'inIcuCurrently': None,\n",
              "  'lastUpdateEt': '3/7/2021 11:00',\n",
              "  'negative': 1931711,\n",
              "  'negativeIncrease': 2087,\n",
              "  'negativeRegularScore': 0,\n",
              "  'negativeScore': 0,\n",
              "  'negativeTestsAntibody': None,\n",
              "  'negativeTestsPeopleAntibody': None,\n",
              "  'negativeTestsViral': None,\n",
              "  'onVentilatorCumulative': 1515,\n",
              "  'onVentilatorCurrently': None,\n",
              "  'pending': None,\n",
              "  'posNeg': 2431530,\n",
              "  'positive': 499819,\n",
              "  'positiveCasesViral': 392077,\n",
              "  'positiveIncrease': 408,\n",
              "  'positiveScore': 0,\n",
              "  'positiveTestsAntibody': None,\n",
              "  'positiveTestsAntigen': None,\n",
              "  'positiveTestsPeopleAntibody': None,\n",
              "  'positiveTestsPeopleAntigen': None,\n",
              "  'positiveTestsViral': None,\n",
              "  'probableCases': 107742,\n",
              "  'recovered': 295690,\n",
              "  'score': 0,\n",
              "  'state': 'AL',\n",
              "  'total': 2431530,\n",
              "  'totalTestEncountersViral': None,\n",
              "  'totalTestResults': 2323788,\n",
              "  'totalTestResultsIncrease': 2347,\n",
              "  'totalTestResultsSource': 'totalTestsPeopleViral',\n",
              "  'totalTestsAntibody': None,\n",
              "  'totalTestsAntigen': None,\n",
              "  'totalTestsPeopleAntibody': 119757,\n",
              "  'totalTestsPeopleAntigen': None,\n",
              "  'totalTestsPeopleViral': 2323788,\n",
              "  'totalTestsViral': None},\n",
              " {'checkTimeEt': '03/06 19:00',\n",
              "  'commercialScore': 0,\n",
              "  'dataQualityGrade': None,\n",
              "  'date': 20210307,\n",
              "  'dateChecked': '2021-03-07T00:00:00Z',\n",
              "  'dateModified': '2021-03-07T00:00:00Z',\n",
              "  'death': 5319,\n",
              "  'deathConfirmed': 4308,\n",
              "  'deathIncrease': 22,\n",
              "  'deathProbable': 1011,\n",
              "  'fips': '05',\n",
              "  'grade': '',\n",
              "  'hash': '50921aeefba3e30d31623aa495b47fb2ecc72fae',\n",
              "  'hospitalized': 14926,\n",
              "  'hospitalizedCumulative': 14926,\n",
              "  'hospitalizedCurrently': 335,\n",
              "  'hospitalizedDischarged': None,\n",
              "  'hospitalizedIncrease': 11,\n",
              "  'inIcuCumulative': None,\n",
              "  'inIcuCurrently': 141,\n",
              "  'lastUpdateEt': '3/7/2021 00:00',\n",
              "  'negative': 2480716,\n",
              "  'negativeIncrease': 3267,\n",
              "  'negativeRegularScore': 0,\n",
              "  'negativeScore': 0,\n",
              "  'negativeTestsAntibody': None,\n",
              "  'negativeTestsPeopleAntibody': None,\n",
              "  'negativeTestsViral': 2480716,\n",
              "  'onVentilatorCumulative': 1533,\n",
              "  'onVentilatorCurrently': 65,\n",
              "  'pending': None,\n",
              "  'posNeg': 2805534,\n",
              "  'positive': 324818,\n",
              "  'positiveCasesViral': 255726,\n",
              "  'positiveIncrease': 165,\n",
              "  'positiveScore': 0,\n",
              "  'positiveTestsAntibody': None,\n",
              "  'positiveTestsAntigen': None,\n",
              "  'positiveTestsPeopleAntibody': None,\n",
              "  'positiveTestsPeopleAntigen': 81803,\n",
              "  'positiveTestsViral': None,\n",
              "  'probableCases': 69092,\n",
              "  'recovered': 315517,\n",
              "  'score': 0,\n",
              "  'state': 'AR',\n",
              "  'total': 2805534,\n",
              "  'totalTestEncountersViral': None,\n",
              "  'totalTestResults': 2736442,\n",
              "  'totalTestResultsIncrease': 3380,\n",
              "  'totalTestResultsSource': 'totalTestsViral',\n",
              "  'totalTestsAntibody': None,\n",
              "  'totalTestsAntigen': None,\n",
              "  'totalTestsPeopleAntibody': None,\n",
              "  'totalTestsPeopleAntigen': 481311,\n",
              "  'totalTestsPeopleViral': None,\n",
              "  'totalTestsViral': 2736442},\n",
              " {'checkTimeEt': '11/30 19:00',\n",
              "  'commercialScore': 0,\n",
              "  'dataQualityGrade': None,\n",
              "  'date': 20210307,\n",
              "  'dateChecked': '2020-12-01T00:00:00Z',\n",
              "  'dateModified': '2020-12-01T00:00:00Z',\n",
              "  'death': 0,\n",
              "  'deathConfirmed': None,\n",
              "  'deathIncrease': 0,\n",
              "  'deathProbable': None,\n",
              "  'fips': '60',\n",
              "  'grade': '',\n",
              "  'hash': 'f77912d0b80d579fbb6202fa1a90554fc4dc1443',\n",
              "  'hospitalized': None,\n",
              "  'hospitalizedCumulative': None,\n",
              "  'hospitalizedCurrently': None,\n",
              "  'hospitalizedDischarged': None,\n",
              "  'hospitalizedIncrease': 0,\n",
              "  'inIcuCumulative': None,\n",
              "  'inIcuCurrently': None,\n",
              "  'lastUpdateEt': '12/1/2020 00:00',\n",
              "  'negative': 2140,\n",
              "  'negativeIncrease': 0,\n",
              "  'negativeRegularScore': 0,\n",
              "  'negativeScore': 0,\n",
              "  'negativeTestsAntibody': None,\n",
              "  'negativeTestsPeopleAntibody': None,\n",
              "  'negativeTestsViral': None,\n",
              "  'onVentilatorCumulative': None,\n",
              "  'onVentilatorCurrently': None,\n",
              "  'pending': None,\n",
              "  'posNeg': 2140,\n",
              "  'positive': 0,\n",
              "  'positiveCasesViral': 0,\n",
              "  'positiveIncrease': 0,\n",
              "  'positiveScore': 0,\n",
              "  'positiveTestsAntibody': None,\n",
              "  'positiveTestsAntigen': None,\n",
              "  'positiveTestsPeopleAntibody': None,\n",
              "  'positiveTestsPeopleAntigen': None,\n",
              "  'positiveTestsViral': None,\n",
              "  'probableCases': None,\n",
              "  'recovered': None,\n",
              "  'score': 0,\n",
              "  'state': 'AS',\n",
              "  'total': 2140,\n",
              "  'totalTestEncountersViral': None,\n",
              "  'totalTestResults': 2140,\n",
              "  'totalTestResultsIncrease': 0,\n",
              "  'totalTestResultsSource': 'totalTestsViral',\n",
              "  'totalTestsAntibody': None,\n",
              "  'totalTestsAntigen': None,\n",
              "  'totalTestsPeopleAntibody': None,\n",
              "  'totalTestsPeopleAntigen': None,\n",
              "  'totalTestsPeopleViral': None,\n",
              "  'totalTestsViral': 2140},\n",
              " {'checkTimeEt': '03/06 19:00',\n",
              "  'commercialScore': 0,\n",
              "  'dataQualityGrade': None,\n",
              "  'date': 20210307,\n",
              "  'dateChecked': '2021-03-07T00:00:00Z',\n",
              "  'dateModified': '2021-03-07T00:00:00Z',\n",
              "  'death': 16328,\n",
              "  'deathConfirmed': 14403,\n",
              "  'deathIncrease': 5,\n",
              "  'deathProbable': 1925,\n",
              "  'fips': '04',\n",
              "  'grade': '',\n",
              "  'hash': '0437a7a96f4471666f775e63e86923eb5cbd8cdf',\n",
              "  'hospitalized': 57907,\n",
              "  'hospitalizedCumulative': 57907,\n",
              "  'hospitalizedCurrently': 963,\n",
              "  'hospitalizedDischarged': 118932,\n",
              "  'hospitalizedIncrease': 44,\n",
              "  'inIcuCumulative': None,\n",
              "  'inIcuCurrently': 273,\n",
              "  'lastUpdateEt': '3/7/2021 00:00',\n",
              "  'negative': 3073010,\n",
              "  'negativeIncrease': 13678,\n",
              "  'negativeRegularScore': 0,\n",
              "  'negativeScore': 0,\n",
              "  'negativeTestsAntibody': None,\n",
              "  'negativeTestsPeopleAntibody': None,\n",
              "  'negativeTestsViral': None,\n",
              "  'onVentilatorCumulative': None,\n",
              "  'onVentilatorCurrently': 143,\n",
              "  'pending': None,\n",
              "  'posNeg': 3899464,\n",
              "  'positive': 826454,\n",
              "  'positiveCasesViral': 769935,\n",
              "  'positiveIncrease': 1335,\n",
              "  'positiveScore': 0,\n",
              "  'positiveTestsAntibody': None,\n",
              "  'positiveTestsAntigen': None,\n",
              "  'positiveTestsPeopleAntibody': None,\n",
              "  'positiveTestsPeopleAntigen': None,\n",
              "  'positiveTestsViral': None,\n",
              "  'probableCases': 56519,\n",
              "  'recovered': None,\n",
              "  'score': 0,\n",
              "  'state': 'AZ',\n",
              "  'total': 3899464,\n",
              "  'totalTestEncountersViral': None,\n",
              "  'totalTestResults': 7908105,\n",
              "  'totalTestResultsIncrease': 45110,\n",
              "  'totalTestResultsSource': 'totalTestsViral',\n",
              "  'totalTestsAntibody': 580569,\n",
              "  'totalTestsAntigen': None,\n",
              "  'totalTestsPeopleAntibody': 444089,\n",
              "  'totalTestsPeopleAntigen': None,\n",
              "  'totalTestsPeopleViral': 3842945,\n",
              "  'totalTestsViral': 7908105},\n",
              " {'checkTimeEt': '03/06 21:59',\n",
              "  'commercialScore': 0,\n",
              "  'dataQualityGrade': None,\n",
              "  'date': 20210307,\n",
              "  'dateChecked': '2021-03-07T02:59:00Z',\n",
              "  'dateModified': '2021-03-07T02:59:00Z',\n",
              "  'death': 54124,\n",
              "  'deathConfirmed': None,\n",
              "  'deathIncrease': 258,\n",
              "  'deathProbable': None,\n",
              "  'fips': '06',\n",
              "  'grade': '',\n",
              "  'hash': '63c5c0fd2daef2fb65150e9db486de98ed3f7b72',\n",
              "  'hospitalized': None,\n",
              "  'hospitalizedCumulative': None,\n",
              "  'hospitalizedCurrently': 4291,\n",
              "  'hospitalizedDischarged': None,\n",
              "  'hospitalizedIncrease': 0,\n",
              "  'inIcuCumulative': None,\n",
              "  'inIcuCurrently': 1159,\n",
              "  'lastUpdateEt': '3/7/2021 02:59',\n",
              "  'negative': None,\n",
              "  'negativeIncrease': 0,\n",
              "  'negativeRegularScore': 0,\n",
              "  'negativeScore': 0,\n",
              "  'negativeTestsAntibody': None,\n",
              "  'negativeTestsPeopleAntibody': None,\n",
              "  'negativeTestsViral': None,\n",
              "  'onVentilatorCumulative': None,\n",
              "  'onVentilatorCurrently': None,\n",
              "  'pending': None,\n",
              "  'posNeg': 3501394,\n",
              "  'positive': 3501394,\n",
              "  'positiveCasesViral': 3501394,\n",
              "  'positiveIncrease': 3816,\n",
              "  'positiveScore': 0,\n",
              "  'positiveTestsAntibody': None,\n",
              "  'positiveTestsAntigen': None,\n",
              "  'positiveTestsPeopleAntibody': None,\n",
              "  'positiveTestsPeopleAntigen': None,\n",
              "  'positiveTestsViral': None,\n",
              "  'probableCases': None,\n",
              "  'recovered': None,\n",
              "  'score': 0,\n",
              "  'state': 'CA',\n",
              "  'total': 3501394,\n",
              "  'totalTestEncountersViral': None,\n",
              "  'totalTestResults': 49646014,\n",
              "  'totalTestResultsIncrease': 133186,\n",
              "  'totalTestResultsSource': 'totalTestsViral',\n",
              "  'totalTestsAntibody': None,\n",
              "  'totalTestsAntigen': None,\n",
              "  'totalTestsPeopleAntibody': None,\n",
              "  'totalTestsPeopleAntigen': None,\n",
              "  'totalTestsPeopleViral': None,\n",
              "  'totalTestsViral': 49646014},\n",
              " {'checkTimeEt': '03/06 20:59',\n",
              "  'commercialScore': 0,\n",
              "  'dataQualityGrade': None,\n",
              "  'date': 20210307,\n",
              "  'dateChecked': '2021-03-07T01:59:00Z',\n",
              "  'dateModified': '2021-03-07T01:59:00Z',\n",
              "  'death': 5989,\n",
              "  'deathConfirmed': 5251,\n",
              "  'deathIncrease': 3,\n",
              "  'deathProbable': 735,\n",
              "  'fips': '08',\n",
              "  'grade': '',\n",
              "  'hash': '444746cda3a596f183f3fa3269c8cab68704e819',\n",
              "  'hospitalized': 23904,\n",
              "  'hospitalizedCumulative': 23904,\n",
              "  'hospitalizedCurrently': 326,\n",
              "  'hospitalizedDischarged': 23003,\n",
              "  'hospitalizedIncrease': 18,\n",
              "  'inIcuCumulative': None,\n",
              "  'inIcuCurrently': None,\n",
              "  'lastUpdateEt': '3/7/2021 01:59',\n",
              "  'negative': 2199458,\n",
              "  'negativeIncrease': 0,\n",
              "  'negativeRegularScore': 0,\n",
              "  'negativeScore': 0,\n",
              "  'negativeTestsAntibody': 369995,\n",
              "  'negativeTestsPeopleAntibody': None,\n",
              "  'negativeTestsViral': None,\n",
              "  'onVentilatorCumulative': None,\n",
              "  'onVentilatorCurrently': None,\n",
              "  'pending': None,\n",
              "  'posNeg': 2636060,\n",
              "  'positive': 436602,\n",
              "  'positiveCasesViral': 410976,\n",
              "  'positiveIncrease': 840,\n",
              "  'positiveScore': 0,\n",
              "  'positiveTestsAntibody': 63087,\n",
              "  'positiveTestsAntigen': None,\n",
              "  'positiveTestsPeopleAntibody': None,\n",
              "  'positiveTestsPeopleAntigen': None,\n",
              "  'positiveTestsViral': None,\n",
              "  'probableCases': 24786,\n",
              "  'recovered': None,\n",
              "  'score': 0,\n",
              "  'state': 'CO',\n",
              "  'total': 2636060,\n",
              "  'totalTestEncountersViral': 6415123,\n",
              "  'totalTestResults': 6415123,\n",
              "  'totalTestResultsIncrease': 38163,\n",
              "  'totalTestResultsSource': 'totalTestEncountersViral',\n",
              "  'totalTestsAntibody': 435053,\n",
              "  'totalTestsAntigen': None,\n",
              "  'totalTestsPeopleAntibody': None,\n",
              "  'totalTestsPeopleAntigen': None,\n",
              "  'totalTestsPeopleViral': 2616541,\n",
              "  'totalTestsViral': None},\n",
              " {'checkTimeEt': '03/04 18:59',\n",
              "  'commercialScore': 0,\n",
              "  'dataQualityGrade': None,\n",
              "  'date': 20210307,\n",
              "  'dateChecked': '2021-03-04T23:59:00Z',\n",
              "  'dateModified': '2021-03-04T23:59:00Z',\n",
              "  'death': 7704,\n",
              "  'deathConfirmed': 6327,\n",
              "  'deathIncrease': 0,\n",
              "  'deathProbable': 1377,\n",
              "  'fips': '09',\n",
              "  'grade': '',\n",
              "  'hash': '38f39494134d22cd0d06e4ce63aa4a4ac10aa930',\n",
              "  'hospitalized': None,\n",
              "  'hospitalizedCumulative': None,\n",
              "  'hospitalizedCurrently': 428,\n",
              "  'hospitalizedDischarged': None,\n",
              "  'hospitalizedIncrease': 0,\n",
              "  'inIcuCumulative': None,\n",
              "  'inIcuCurrently': None,\n",
              "  'lastUpdateEt': '3/4/2021 23:59',\n",
              "  'negative': None,\n",
              "  'negativeIncrease': 0,\n",
              "  'negativeRegularScore': 0,\n",
              "  'negativeScore': 0,\n",
              "  'negativeTestsAntibody': None,\n",
              "  'negativeTestsPeopleAntibody': None,\n",
              "  'negativeTestsViral': 6188566,\n",
              "  'onVentilatorCumulative': None,\n",
              "  'onVentilatorCurrently': None,\n",
              "  'pending': None,\n",
              "  'posNeg': 285330,\n",
              "  'positive': 285330,\n",
              "  'positiveCasesViral': 265709,\n",
              "  'positiveIncrease': 0,\n",
              "  'positiveScore': 0,\n",
              "  'positiveTestsAntibody': None,\n",
              "  'positiveTestsAntigen': 22245,\n",
              "  'positiveTestsPeopleAntibody': None,\n",
              "  'positiveTestsPeopleAntigen': None,\n",
              "  'positiveTestsViral': 323284,\n",
              "  'probableCases': 19621,\n",
              "  'recovered': None,\n",
              "  'score': 0,\n",
              "  'state': 'CT',\n",
              "  'total': 285330,\n",
              "  'totalTestEncountersViral': None,\n",
              "  'totalTestResults': 6520366,\n",
              "  'totalTestResultsIncrease': 0,\n",
              "  'totalTestResultsSource': 'totalTestsViral',\n",
              "  'totalTestsAntibody': None,\n",
              "  'totalTestsAntigen': 396680,\n",
              "  'totalTestsPeopleAntibody': None,\n",
              "  'totalTestsPeopleAntigen': None,\n",
              "  'totalTestsPeopleViral': None,\n",
              "  'totalTestsViral': 6520366},\n",
              " {'checkTimeEt': '03/05 19:00',\n",
              "  'commercialScore': 0,\n",
              "  'dataQualityGrade': None,\n",
              "  'date': 20210307,\n",
              "  'dateChecked': '2021-03-06T00:00:00Z',\n",
              "  'dateModified': '2021-03-06T00:00:00Z',\n",
              "  'death': 1030,\n",
              "  'deathConfirmed': None,\n",
              "  'deathIncrease': 0,\n",
              "  'deathProbable': None,\n",
              "  'fips': '11',\n",
              "  'grade': '',\n",
              "  'hash': 'a3aa0d623d538807fb9577ad64354f48cf728cc8',\n",
              "  'hospitalized': None,\n",
              "  'hospitalizedCumulative': None,\n",
              "  'hospitalizedCurrently': 150,\n",
              "  'hospitalizedDischarged': None,\n",
              "  'hospitalizedIncrease': 0,\n",
              "  'inIcuCumulative': None,\n",
              "  'inIcuCurrently': 38,\n",
              "  'lastUpdateEt': '3/6/2021 00:00',\n",
              "  'negative': None,\n",
              "  'negativeIncrease': 0,\n",
              "  'negativeRegularScore': 0,\n",
              "  'negativeScore': 0,\n",
              "  'negativeTestsAntibody': None,\n",
              "  'negativeTestsPeopleAntibody': None,\n",
              "  'negativeTestsViral': None,\n",
              "  'onVentilatorCumulative': None,\n",
              "  'onVentilatorCurrently': 16,\n",
              "  'pending': None,\n",
              "  'posNeg': 41419,\n",
              "  'positive': 41419,\n",
              "  'positiveCasesViral': None,\n",
              "  'positiveIncrease': 146,\n",
              "  'positiveScore': 0,\n",
              "  'positiveTestsAntibody': None,\n",
              "  'positiveTestsAntigen': None,\n",
              "  'positiveTestsPeopleAntibody': None,\n",
              "  'positiveTestsPeopleAntigen': None,\n",
              "  'positiveTestsViral': None,\n",
              "  'probableCases': None,\n",
              "  'recovered': 29570,\n",
              "  'score': 0,\n",
              "  'state': 'DC',\n",
              "  'total': 41419,\n",
              "  'totalTestEncountersViral': 1261363,\n",
              "  'totalTestResults': 1261363,\n",
              "  'totalTestResultsIncrease': 5726,\n",
              "  'totalTestResultsSource': 'totalTestEncountersViral',\n",
              "  'totalTestsAntibody': None,\n",
              "  'totalTestsAntigen': None,\n",
              "  'totalTestsPeopleAntibody': None,\n",
              "  'totalTestsPeopleAntigen': None,\n",
              "  'totalTestsPeopleViral': 441942,\n",
              "  'totalTestsViral': None},\n",
              " {'checkTimeEt': '03/06 13:00',\n",
              "  'commercialScore': 0,\n",
              "  'dataQualityGrade': None,\n",
              "  'date': 20210307,\n",
              "  'dateChecked': '2021-03-06T18:00:00Z',\n",
              "  'dateModified': '2021-03-06T18:00:00Z',\n",
              "  'death': 1473,\n",
              "  'deathConfirmed': 1337,\n",
              "  'deathIncrease': 9,\n",
              "  'deathProbable': 136,\n",
              "  'fips': '10',\n",
              "  'grade': '',\n",
              "  'hash': '059d870e689d5cc19c35f5eb398214d7d9856373',\n",
              "  'hospitalized': None,\n",
              "  'hospitalizedCumulative': None,\n",
              "  'hospitalizedCurrently': 104,\n",
              "  'hospitalizedDischarged': None,\n",
              "  'hospitalizedIncrease': 0,\n",
              "  'inIcuCumulative': None,\n",
              "  'inIcuCurrently': 13,\n",
              "  'lastUpdateEt': '3/6/2021 18:00',\n",
              "  'negative': 545070,\n",
              "  'negativeIncrease': 917,\n",
              "  'negativeRegularScore': 0,\n",
              "  'negativeScore': 0,\n",
              "  'negativeTestsAntibody': None,\n",
              "  'negativeTestsPeopleAntibody': None,\n",
              "  'negativeTestsViral': None,\n",
              "  'onVentilatorCumulative': None,\n",
              "  'onVentilatorCurrently': None,\n",
              "  'pending': None,\n",
              "  'posNeg': 633424,\n",
              "  'positive': 88354,\n",
              "  'positiveCasesViral': 83621,\n",
              "  'positiveIncrease': 215,\n",
              "  'positiveScore': 0,\n",
              "  'positiveTestsAntibody': None,\n",
              "  'positiveTestsAntigen': None,\n",
              "  'positiveTestsPeopleAntibody': None,\n",
              "  'positiveTestsPeopleAntigen': None,\n",
              "  'positiveTestsViral': 91873,\n",
              "  'probableCases': 4733,\n",
              "  'recovered': None,\n",
              "  'score': 0,\n",
              "  'state': 'DE',\n",
              "  'total': 633424,\n",
              "  'totalTestEncountersViral': 1431942,\n",
              "  'totalTestResults': 1431942,\n",
              "  'totalTestResultsIncrease': 5867,\n",
              "  'totalTestResultsSource': 'totalTestEncountersViral',\n",
              "  'totalTestsAntibody': None,\n",
              "  'totalTestsAntigen': None,\n",
              "  'totalTestsPeopleAntibody': None,\n",
              "  'totalTestsPeopleAntigen': None,\n",
              "  'totalTestsPeopleViral': 633424,\n",
              "  'totalTestsViral': None}]"
            ]
          },
          "metadata": {
            "tags": []
          },
          "execution_count": 2
        }
      ]
    },
    {
      "cell_type": "code",
      "metadata": {
        "id": "iAoPYNi6Wkbd"
      },
      "source": [
        "sc= spark.sparkContext\n",
        "df = sc.parallelize(data_json).map(lambda x: json.dumps(x))\n",
        "df = spark.read.json(df)"
      ],
      "execution_count": null,
      "outputs": []
    },
    {
      "cell_type": "code",
      "metadata": {
        "colab": {
          "base_uri": "https://localhost:8080/"
        },
        "id": "L869tRXBW2GF",
        "outputId": "15552ab2-1228-4414-cf5b-5db50e0a49f7"
      },
      "source": [
        "df.show(5)"
      ],
      "execution_count": null,
      "outputs": [
        {
          "output_type": "stream",
          "text": [
            "+-----------+---------------+----------------+--------+--------------------+--------------------+-----+--------------+-------------+-------------+----+-----+--------------------+------------+----------------------+---------------------+----------------------+--------------------+---------------+--------------+---------------+--------+----------------+--------------------+-------------+---------------------+---------------------------+------------------+----------------------+---------------------+-------+-------+--------+------------------+----------------+-------------+---------------------+--------------------+---------------------------+--------------------------+------------------+-------------+---------+-----+-----+-------+------------------------+----------------+------------------------+----------------------+------------------+-----------------+------------------------+-----------------------+---------------------+---------------+\n",
            "|checkTimeEt|commercialScore|dataQualityGrade|    date|         dateChecked|        dateModified|death|deathConfirmed|deathIncrease|deathProbable|fips|grade|                hash|hospitalized|hospitalizedCumulative|hospitalizedCurrently|hospitalizedDischarged|hospitalizedIncrease|inIcuCumulative|inIcuCurrently|   lastUpdateEt|negative|negativeIncrease|negativeRegularScore|negativeScore|negativeTestsAntibody|negativeTestsPeopleAntibody|negativeTestsViral|onVentilatorCumulative|onVentilatorCurrently|pending| posNeg|positive|positiveCasesViral|positiveIncrease|positiveScore|positiveTestsAntibody|positiveTestsAntigen|positiveTestsPeopleAntibody|positiveTestsPeopleAntigen|positiveTestsViral|probableCases|recovered|score|state|  total|totalTestEncountersViral|totalTestResults|totalTestResultsIncrease|totalTestResultsSource|totalTestsAntibody|totalTestsAntigen|totalTestsPeopleAntibody|totalTestsPeopleAntigen|totalTestsPeopleViral|totalTestsViral|\n",
            "+-----------+---------------+----------------+--------+--------------------+--------------------+-----+--------------+-------------+-------------+----+-----+--------------------+------------+----------------------+---------------------+----------------------+--------------------+---------------+--------------+---------------+--------+----------------+--------------------+-------------+---------------------+---------------------------+------------------+----------------------+---------------------+-------+-------+--------+------------------+----------------+-------------+---------------------+--------------------+---------------------------+--------------------------+------------------+-------------+---------+-----+-----+-------+------------------------+----------------+------------------------+----------------------+------------------+-----------------+------------------------+-----------------------+---------------------+---------------+\n",
            "|03/04 22:59|              0|            null|20210307|2021-03-05T03:59:00Z|2021-03-05T03:59:00Z|  305|          null|            0|         null|  02|     |dc4bccd4bb885349d...|        1293|                  1293|                   33|                  null|                   0|           null|          null| 3/5/2021 03:59|    null|               0|                   0|            0|                 null|                       null|           1660758|                  null|                    2|   null|  56886|   56886|              null|               0|            0|                 null|                null|                       null|                      null|             68693|         null|     null|    0|   AK|  56886|                    null|         1731628|                       0|       totalTestsViral|              null|             null|                    null|                   null|                 null|        1731628|\n",
            "|03/07 06:00|              0|            null|20210307|2021-03-07T11:00:00Z|2021-03-07T11:00:00Z|10148|          7963|           -1|         2185|  01|     |997207b430824ea40...|       45976|                 45976|                  494|                  null|                   0|           2676|          null| 3/7/2021 11:00| 1931711|            2087|                   0|            0|                 null|                       null|              null|                  1515|                 null|   null|2431530|  499819|            392077|             408|            0|                 null|                null|                       null|                      null|              null|       107742|   295690|    0|   AL|2431530|                    null|         2323788|                    2347|  totalTestsPeopleV...|              null|             null|                  119757|                   null|              2323788|           null|\n",
            "|03/06 19:00|              0|            null|20210307|2021-03-07T00:00:00Z|2021-03-07T00:00:00Z| 5319|          4308|           22|         1011|  05|     |50921aeefba3e30d3...|       14926|                 14926|                  335|                  null|                  11|           null|           141| 3/7/2021 00:00| 2480716|            3267|                   0|            0|                 null|                       null|           2480716|                  1533|                   65|   null|2805534|  324818|            255726|             165|            0|                 null|                null|                       null|                     81803|              null|        69092|   315517|    0|   AR|2805534|                    null|         2736442|                    3380|       totalTestsViral|              null|             null|                    null|                 481311|                 null|        2736442|\n",
            "|11/30 19:00|              0|            null|20210307|2020-12-01T00:00:00Z|2020-12-01T00:00:00Z|    0|          null|            0|         null|  60|     |f77912d0b80d579fb...|        null|                  null|                 null|                  null|                   0|           null|          null|12/1/2020 00:00|    2140|               0|                   0|            0|                 null|                       null|              null|                  null|                 null|   null|   2140|       0|                 0|               0|            0|                 null|                null|                       null|                      null|              null|         null|     null|    0|   AS|   2140|                    null|            2140|                       0|       totalTestsViral|              null|             null|                    null|                   null|                 null|           2140|\n",
            "|03/06 19:00|              0|            null|20210307|2021-03-07T00:00:00Z|2021-03-07T00:00:00Z|16328|         14403|            5|         1925|  04|     |0437a7a96f4471666...|       57907|                 57907|                  963|                118932|                  44|           null|           273| 3/7/2021 00:00| 3073010|           13678|                   0|            0|                 null|                       null|              null|                  null|                  143|   null|3899464|  826454|            769935|            1335|            0|                 null|                null|                       null|                      null|              null|        56519|     null|    0|   AZ|3899464|                    null|         7908105|                   45110|       totalTestsViral|            580569|             null|                  444089|                   null|              3842945|        7908105|\n",
            "+-----------+---------------+----------------+--------+--------------------+--------------------+-----+--------------+-------------+-------------+----+-----+--------------------+------------+----------------------+---------------------+----------------------+--------------------+---------------+--------------+---------------+--------+----------------+--------------------+-------------+---------------------+---------------------------+------------------+----------------------+---------------------+-------+-------+--------+------------------+----------------+-------------+---------------------+--------------------+---------------------------+--------------------------+------------------+-------------+---------+-----+-----+-------+------------------------+----------------+------------------------+----------------------+------------------+-----------------+------------------------+-----------------------+---------------------+---------------+\n",
            "only showing top 5 rows\n",
            "\n"
          ],
          "name": "stdout"
        }
      ]
    },
    {
      "cell_type": "code",
      "metadata": {
        "colab": {
          "base_uri": "https://localhost:8080/"
        },
        "id": "Ogp7JdTTQodV",
        "outputId": "e7e2ae1d-2530-4aef-80f4-3a254f89cc27"
      },
      "source": [
        "# Select only interested columns\n",
        "covid_data = df.select(\n",
        "    \"dataQualityGrade\", \"date\",  \"death\", \"deathIncrease\", \"hospitalizedCurrently\", \"hospitalizedDischarged\", \"hospitalizedIncrease\", \n",
        "    \"positive\", \"positiveIncrease\", \"recovered\", \"state\")\n",
        "\n",
        "print(\"Total number records: \", covid_data.count())\n",
        "\n",
        "# Select only data from Washington DC\n",
        "covid_data = covid_data.filter(F.col(\"state\") == \"DC\").drop(\"state\")\n",
        "\n",
        "covid_data.show(5)\n",
        "\n",
        "covid_data.printSchema()"
      ],
      "execution_count": null,
      "outputs": [
        {
          "output_type": "stream",
          "text": [
            "Total number records:  20780\n",
            "+----------------+--------+-----+-------------+---------------------+----------------------+--------------------+--------+----------------+---------+\n",
            "|dataQualityGrade|    date|death|deathIncrease|hospitalizedCurrently|hospitalizedDischarged|hospitalizedIncrease|positive|positiveIncrease|recovered|\n",
            "+----------------+--------+-----+-------------+---------------------+----------------------+--------------------+--------+----------------+---------+\n",
            "|            null|20210307| 1030|            0|                  150|                  null|                   0|   41419|             146|    29570|\n",
            "|            null|20210306| 1030|            3|                  150|                  null|                   0|   41273|             151|    29470|\n",
            "|            null|20210305| 1027|            3|                  160|                  null|                   0|   41122|             108|    29417|\n",
            "|            null|20210304| 1024|            1|                  170|                  null|                   0|   41014|             196|    29287|\n",
            "|            null|20210303| 1023|            4|                  177|                  null|                   0|   40818|              51|    29213|\n",
            "+----------------+--------+-----+-------------+---------------------+----------------------+--------------------+--------+----------------+---------+\n",
            "only showing top 5 rows\n",
            "\n",
            "root\n",
            " |-- dataQualityGrade: string (nullable = true)\n",
            " |-- date: long (nullable = true)\n",
            " |-- death: long (nullable = true)\n",
            " |-- deathIncrease: long (nullable = true)\n",
            " |-- hospitalizedCurrently: long (nullable = true)\n",
            " |-- hospitalizedDischarged: long (nullable = true)\n",
            " |-- hospitalizedIncrease: long (nullable = true)\n",
            " |-- positive: long (nullable = true)\n",
            " |-- positiveIncrease: long (nullable = true)\n",
            " |-- recovered: long (nullable = true)\n",
            "\n"
          ],
          "name": "stdout"
        }
      ]
    },
    {
      "cell_type": "code",
      "metadata": {
        "colab": {
          "base_uri": "https://localhost:8080/"
        },
        "id": "nv5h3AeLSkGX",
        "outputId": "4bb6f179-6607-493e-fc41-e89bfc4410b6"
      },
      "source": [
        "covid_data.select(\"dataQualityGrade\", \"hospitalizedDischarged\", \"hospitalizedIncrease\").distinct().show()"
      ],
      "execution_count": null,
      "outputs": [
        {
          "output_type": "stream",
          "text": [
            "+----------------+----------------------+--------------------+\n",
            "|dataQualityGrade|hospitalizedDischarged|hospitalizedIncrease|\n",
            "+----------------+----------------------+--------------------+\n",
            "|            null|                  null|                   0|\n",
            "+----------------+----------------------+--------------------+\n",
            "\n"
          ],
          "name": "stdout"
        }
      ]
    },
    {
      "cell_type": "code",
      "metadata": {
        "colab": {
          "base_uri": "https://localhost:8080/"
        },
        "id": "_NXLQ8EvXZPY",
        "outputId": "8b56b425-a8b0-459a-921b-7aae9a526978"
      },
      "source": [
        "covid_data = covid_data.drop(\"dataQualityGrade\", \"hospitalizedDischarged\", \"hospitalizedIncrease\")\n",
        "\n",
        "covid_data.show(5)"
      ],
      "execution_count": null,
      "outputs": [
        {
          "output_type": "stream",
          "text": [
            "+--------+-----+-------------+---------------------+--------+----------------+---------+\n",
            "|    date|death|deathIncrease|hospitalizedCurrently|positive|positiveIncrease|recovered|\n",
            "+--------+-----+-------------+---------------------+--------+----------------+---------+\n",
            "|20210307| 1030|            0|                  150|   41419|             146|    29570|\n",
            "|20210306| 1030|            3|                  150|   41273|             151|    29470|\n",
            "|20210305| 1027|            3|                  160|   41122|             108|    29417|\n",
            "|20210304| 1024|            1|                  170|   41014|             196|    29287|\n",
            "|20210303| 1023|            4|                  177|   40818|              51|    29213|\n",
            "+--------+-----+-------------+---------------------+--------+----------------+---------+\n",
            "only showing top 5 rows\n",
            "\n"
          ],
          "name": "stdout"
        }
      ]
    },
    {
      "cell_type": "code",
      "metadata": {
        "colab": {
          "base_uri": "https://localhost:8080/"
        },
        "id": "W4k6Hy5XXb9j",
        "outputId": "bddfe6a8-8afb-446b-c7ee-dfa7250c159f"
      },
      "source": [
        "#Convert type of column \"date\" from long to date.\n",
        "func =  F.udf(lambda x: datetime.strptime(str(x), '%Y%m%d'), DateType())\n",
        "\n",
        "covid_data = covid_data.withColumn(\"date\", func(F.col(\"date\")))\n",
        "covid_data.orderBy(\"date\").show(5)\n",
        "\n",
        "covid_data.printSchema()"
      ],
      "execution_count": null,
      "outputs": [
        {
          "output_type": "stream",
          "text": [
            "+----------+-----+-------------+---------------------+--------+----------------+---------+\n",
            "|      date|death|deathIncrease|hospitalizedCurrently|positive|positiveIncrease|recovered|\n",
            "+----------+-----+-------------+---------------------+--------+----------------+---------+\n",
            "|2020-03-05| null|            0|                 null|       0|               0|     null|\n",
            "|2020-03-06| null|            0|                 null|       0|               0|     null|\n",
            "|2020-03-07| null|            0|                 null|       0|               0|     null|\n",
            "|2020-03-08| null|            0|                 null|       1|               1|     null|\n",
            "|2020-03-09| null|            0|                 null|       1|               0|     null|\n",
            "+----------+-----+-------------+---------------------+--------+----------------+---------+\n",
            "only showing top 5 rows\n",
            "\n",
            "root\n",
            " |-- date: date (nullable = true)\n",
            " |-- death: long (nullable = true)\n",
            " |-- deathIncrease: long (nullable = true)\n",
            " |-- hospitalizedCurrently: long (nullable = true)\n",
            " |-- positive: long (nullable = true)\n",
            " |-- positiveIncrease: long (nullable = true)\n",
            " |-- recovered: long (nullable = true)\n",
            "\n"
          ],
          "name": "stdout"
        }
      ]
    },
    {
      "cell_type": "code",
      "metadata": {
        "id": "u7kfkcV1XfqT"
      },
      "source": [
        "covid_data = covid_data.fillna(0).orderBy(\"date\")"
      ],
      "execution_count": null,
      "outputs": []
    },
    {
      "cell_type": "code",
      "metadata": {
        "id": "axrsSkawPX9F"
      },
      "source": [
        "covid_data = covid_data.filter(F.col(\"state\") == \"DC\").drop(\"state\")"
      ],
      "execution_count": null,
      "outputs": []
    },
    {
      "cell_type": "code",
      "metadata": {
        "colab": {
          "base_uri": "https://localhost:8080/"
        },
        "id": "otoTnHAoXt4T",
        "outputId": "666db38a-70e0-4a00-e4ee-0a416107cb1e"
      },
      "source": [
        "print(\"Before dropDuplicates: \", covid_data.count())\n",
        "covid_data = covid_data.dropDuplicates([\"date\"])\n",
        "print(\"After dropDuplicates: \", covid_data.count())"
      ],
      "execution_count": null,
      "outputs": [
        {
          "output_type": "stream",
          "text": [
            "Before dropDuplicates:  368\n",
            "After dropDuplicates:  368\n"
          ],
          "name": "stdout"
        }
      ]
    },
    {
      "cell_type": "code",
      "metadata": {
        "id": "YBdqs87zPoAu"
      },
      "source": [
        "#set the outpur directory \n",
        "output_data_dir = '/content/gdrive/My Drive/Udacity/output_data/'\n",
        "covid_data.write.mode(\"overwrite\").parquet(\n",
        "        osp.join(output_data_dir, \"covid_data\"))"
      ],
      "execution_count": null,
      "outputs": []
    },
    {
      "cell_type": "code",
      "metadata": {
        "colab": {
          "base_uri": "https://localhost:8080/",
          "height": 657
        },
        "id": "Urv7fmuvXv4D",
        "outputId": "77e5de90-9702-4914-f5af-077dfbc64b6b"
      },
      "source": [
        "\n",
        "covid_df = covid_data.toPandas()\n",
        "\n",
        "_, axes = plt.subplots(3, 2, figsize=(16, 9))\n",
        "\n",
        "for col, ax in zip(list(covid_df.columns[1:]), axes.flatten()):\n",
        "    covid_df.plot(\"date\", col, ax=ax)\n",
        "    ax.tick_params(axis='x', labelrotation=45)\n",
        "\n",
        "plt.tight_layout()"
      ],
      "execution_count": null,
      "outputs": [
        {
          "output_type": "display_data",
          "data": {
            "image/png": "[encoded data removed]",
            "text/plain": [
              "<Figure size 1152x648 with 6 Axes>"
            ]
          },
          "metadata": {
            "tags": [],
            "needs_background": "light"
          }
        }
      ]
    },
    {
      "cell_type": "code",
      "metadata": {
        "colab": {
          "base_uri": "https://localhost:8080/"
        },
        "id": "-bCHpLloz-Od",
        "outputId": "90a7ca52-c713-42c5-ed2c-c91bfff7ba70"
      },
      "source": [
        "!ls\n"
      ],
      "execution_count": null,
      "outputs": [
        {
          "output_type": "stream",
          "text": [
            "new  old  Weather_data_2018_2021_washington_DC.csv\n"
          ],
          "name": "stdout"
        }
      ]
    },
    {
      "cell_type": "code",
      "metadata": {
        "colab": {
          "base_uri": "https://localhost:8080/"
        },
        "id": "6XJAb3EEJYiW",
        "outputId": "e4dd4681-81c2-4314-a739-3b903487db02"
      },
      "source": [
        "#read and process the weather data \n",
        "WEATHER_DATA_PATH = \"/content/gdrive/My Drive/Kaggle Data/Weather_data_2011_2021.csv\"\n",
        "weather_data_schema = StructType([\n",
        "    StructField('DATE', StringType()),\n",
        "    StructField('AWND', DoubleType()),\n",
        "    StructField('FMTM', DoubleType()),\n",
        "    StructField('PGTM', DoubleType()),\n",
        "    StructField('PRCP', DoubleType()),\n",
        "    StructField('SNOW', DoubleType()),\n",
        "    StructField('SNWD', DoubleType()),\n",
        "    StructField('TAVG', DoubleType()),\n",
        "    StructField('TMAX', DoubleType()),\n",
        "    StructField('TMIN', DoubleType()),\n",
        "    StructField('WDF2', DoubleType()),\n",
        "    StructField('WDF5', DoubleType()),  \n",
        "    StructField('WSF2', DoubleType()),\n",
        "    StructField('WSF5', DoubleType()),\n",
        "    StructField('WT01', StringType()),\n",
        "    StructField('WT02', StringType()), \n",
        "    StructField('WT03', StringType()), \n",
        "    StructField('WT04', StringType()), \n",
        "    StructField('WT05', StringType()), \n",
        "    StructField('WT06', StringType()), \n",
        "    StructField('WT08', StringType()), \n",
        "    StructField('WT09', StringType()),\n",
        "    StructField('WT11', StringType()),\n",
        "    StructField('WT13', StringType()),\n",
        "    StructField('WT14', StringType()),\n",
        "    StructField('WT15', StringType()),\n",
        "    StructField('WT16', StringType()),\n",
        "    StructField('WT17', StringType()),\n",
        "    StructField('WT18', StringType()),\n",
        "    StructField('WT21', StringType()),\n",
        "    StructField('WT22', StringType())\n",
        "])\n",
        "\n",
        "weather_data = spark.read.csv(WEATHER_DATA_PATH, header=True, schema=weather_data_schema,  dateFormat=\"MMddyyyy\").drop(\n",
        "    \"FMTM\",\"PGTM\",\"SNWD\",\"WDF2\",\"WDF5\",\"WSF2\",\"WSF5\"\n",
        ")\n",
        "\n",
        "weather_data.show(5)\n",
        "\n",
        "print(\"Total number records: \", weather_data.count())"
      ],
      "execution_count": null,
      "outputs": [
        {
          "output_type": "stream",
          "text": [
            "+--------+-----+----+----+----+----+----+----+----+----+----+----+----+----+----+----+----+----+----+----+----+----+----+----+\n",
            "|    DATE| AWND|PRCP|SNOW|TAVG|TMAX|TMIN|WT01|WT02|WT03|WT04|WT05|WT06|WT08|WT09|WT11|WT13|WT14|WT15|WT16|WT17|WT18|WT21|WT22|\n",
            "+--------+-----+----+----+----+----+----+----+----+----+----+----+----+----+----+----+----+----+----+----+----+----+----+----+\n",
            "|1/1/2011| 7.16|0.01| 0.0|null|58.0|34.0|   1|null|null|null|null|null|   1|null|null|   1|null|null|   1|null|null|null|null|\n",
            "|1/2/2011|10.96|0.06| 0.0|null|59.0|34.0|   1|null|null|null|null|null|null|null|null|   1|null|null|   1|null|null|null|null|\n",
            "|1/3/2011|10.29| 0.0| 0.0|null|41.0|28.0|null|null|null|null|null|null|null|null|null|null|null|null|null|null|null|null|null|\n",
            "|1/4/2011| 6.49| 0.0| 0.0|null|43.0|25.0|null|null|null|null|null|null|null|null|null|null|null|null|null|null|null|null|null|\n",
            "|1/5/2011|  8.5| 0.0| 0.0|null|43.0|31.0|null|null|null|null|null|null|null|null|null|null|null|null|null|null|null|null|null|\n",
            "+--------+-----+----+----+----+----+----+----+----+----+----+----+----+----+----+----+----+----+----+----+----+----+----+----+\n",
            "only showing top 5 rows\n",
            "\n",
            "Total number records:  3851\n"
          ],
          "name": "stdout"
        }
      ]
    },
    {
      "cell_type": "code",
      "metadata": {
        "colab": {
          "base_uri": "https://localhost:8080/"
        },
        "id": "YmBvz1SzK_lU",
        "outputId": "277716b1-b3c2-4228-f1c1-294ce6bb2a61"
      },
      "source": [
        "#filter, process and create a weather dataframe \n",
        "weather_data = weather_data.filter(F.col(\"AWND\").isNotNull()).filter(F.col(\"TAVG\").isNotNull()).filter(F.col(\"TMAX\").isNotNull()).filter(F.col(\"TMIN\").isNotNull())\n",
        "\n",
        "print(\"Number of stations after filtering: \", weather_data.select('DATE').distinct().count())\n",
        "\n",
        "for i in ['01', \"02\", \"03\", \"04\", \"05\", \"06\", \"08\",\"09\", \"11\",\"13\",\"14\",\"15\",\"16\",\"17\",\"18\",\"21\",\"22\"]:\n",
        "    col_name = f\"WT{i}\"\n",
        "    orig_col_name = f\"{col_name}_orig\"\n",
        "    weather_data = weather_data.fillna('0', subset=[col_name]).withColumnRenamed(col_name, orig_col_name)\n",
        "    weather_data = weather_data.withColumn(col_name, F.col(orig_col_name).cast(BooleanType())).drop(orig_col_name)\n",
        "\n",
        "weather_data.show(5)\n",
        "\n",
        "weather_data.printSchema()\n",
        "\n",
        "print(\"Total number records: \", weather_data.count())"
      ],
      "execution_count": null,
      "outputs": [
        {
          "output_type": "stream",
          "text": [
            "Number of stations after filtering:  2845\n",
            "+--------+-----+----+----+----+----+----+-----+-----+-----+-----+-----+-----+-----+-----+-----+-----+-----+-----+-----+-----+-----+-----+-----+\n",
            "|    DATE| AWND|PRCP|SNOW|TAVG|TMAX|TMIN| WT01| WT02| WT03| WT04| WT05| WT06| WT08| WT09| WT11| WT13| WT14| WT15| WT16| WT17| WT18| WT21| WT22|\n",
            "+--------+-----+----+----+----+----+----+-----+-----+-----+-----+-----+-----+-----+-----+-----+-----+-----+-----+-----+-----+-----+-----+-----+\n",
            "|4/1/2013|11.18| 0.0| 0.0|53.0|68.0|41.0|false|false|false|false|false|false|false|false|false|false|false|false|false|false|false|false|false|\n",
            "|4/2/2013| 12.3| 0.0| 0.0|45.0|51.0|39.0|false|false|false|false|false|false|false|false|false|false|false|false|false|false|false|false|false|\n",
            "|4/3/2013|11.41| 0.0| 0.0|44.0|54.0|33.0|false|false|false|false|false|false|false|false|false|false|false|false|false|false|false|false|false|\n",
            "|4/4/2013| 6.71|0.14| 0.0|40.0|50.0|31.0| true|false|false|false|false|false|false|false|false|false|false|false|false|false|false|false|false|\n",
            "|4/5/2013|11.18|0.12| 0.0|49.0|67.0|39.0| true|false|false|false|false|false|false|false|false|false|false|false|false|false|false|false|false|\n",
            "+--------+-----+----+----+----+----+----+-----+-----+-----+-----+-----+-----+-----+-----+-----+-----+-----+-----+-----+-----+-----+-----+-----+\n",
            "only showing top 5 rows\n",
            "\n",
            "root\n",
            " |-- DATE: string (nullable = true)\n",
            " |-- AWND: double (nullable = true)\n",
            " |-- PRCP: double (nullable = true)\n",
            " |-- SNOW: double (nullable = true)\n",
            " |-- TAVG: double (nullable = true)\n",
            " |-- TMAX: double (nullable = true)\n",
            " |-- TMIN: double (nullable = true)\n",
            " |-- WT01: boolean (nullable = true)\n",
            " |-- WT02: boolean (nullable = true)\n",
            " |-- WT03: boolean (nullable = true)\n",
            " |-- WT04: boolean (nullable = true)\n",
            " |-- WT05: boolean (nullable = true)\n",
            " |-- WT06: boolean (nullable = true)\n",
            " |-- WT08: boolean (nullable = true)\n",
            " |-- WT09: boolean (nullable = true)\n",
            " |-- WT11: boolean (nullable = true)\n",
            " |-- WT13: boolean (nullable = true)\n",
            " |-- WT14: boolean (nullable = true)\n",
            " |-- WT15: boolean (nullable = true)\n",
            " |-- WT16: boolean (nullable = true)\n",
            " |-- WT17: boolean (nullable = true)\n",
            " |-- WT18: boolean (nullable = true)\n",
            " |-- WT21: boolean (nullable = true)\n",
            " |-- WT22: boolean (nullable = true)\n",
            "\n",
            "Total number records:  2845\n"
          ],
          "name": "stdout"
        }
      ]
    },
    {
      "cell_type": "code",
      "metadata": {
        "id": "dywb9nh6S25k"
      },
      "source": [
        "# write weather_data to parquet files\n",
        "output_data_dir = '/content/gdrive/My Drive/Udacity/output_data/'\n",
        "weather_data.write.mode(\"overwrite\").parquet(\n",
        "        osp.join(output_data_dir, \"weather_data\"))"
      ],
      "execution_count": null,
      "outputs": []
    },
    {
      "cell_type": "code",
      "metadata": {
        "colab": {
          "base_uri": "https://localhost:8080/"
        },
        "id": "hxc2KIBXLgX4",
        "outputId": "aff38873-706a-4d43-cfb9-674cd8f6829e"
      },
      "source": [
        "!ls"
      ],
      "execution_count": null,
      "outputs": [
        {
          "output_type": "stream",
          "text": [
            "new  old  output_data  output_datatrip_data.parquet\n"
          ],
          "name": "stdout"
        }
      ]
    },
    {
      "cell_type": "code",
      "metadata": {
        "colab": {
          "base_uri": "https://localhost:8080/",
          "height": 317
        },
        "id": "aP0eN8xXMOJL",
        "outputId": "2d09e867-84bd-4047-eb63-cd388add5d1e"
      },
      "source": [
        "weather_df = weather_data.toPandas()\n",
        "\n",
        "_, axes = plt.subplots(1, 2, figsize=(16, 4))\n",
        "\n",
        "weather_df.plot(\"DATE\", [\"TAVG\", \"TMIN\", \"TMAX\"], ax=axes[0])\n",
        "weather_df.plot(\"DATE\", \"AWND\", ax=axes[1])\n",
        "\n",
        "for ax in axes:\n",
        "    ax.tick_params(axis='x', labelrotation=45)"
      ],
      "execution_count": null,
      "outputs": [
        {
          "output_type": "display_data",
          "data": {
            "image/png": "[encoded data removed]",
            "text/plain": [
              "<Figure size 1152x288 with 2 Axes>"
            ]
          },
          "metadata": {
            "tags": [],
            "needs_background": "light"
          }
        }
      ]
    },
    {
      "cell_type": "code",
      "metadata": {
        "id": "_X8UBrVyQ0g2"
      },
      "source": [
        "#read all the tables \n",
        "covid_df = spark.read.parquet(\"/content/gdrive/My Drive/Udacity/output_data/covid_data/\")\n",
        "covid_df.createOrReplaceTempView('covid')\n",
        "\n",
        "stations_df = spark.read.parquet(\"/content/gdrive/My Drive/Udacity/output_data/station_data.parquet/\")\n",
        "stations_df.createOrReplaceTempView('stations')\n",
        "\n",
        "trips_df = spark.read.parquet(\"/content/gdrive/My Drive/Udacity/output_data/trip_data.parquet/\")\n",
        "trips_df.createOrReplaceTempView('trips')\n",
        "\n",
        "weather_df = spark.read.parquet(\"/content/gdrive/My Drive/Udacity/output_data/weather_data/\")\n",
        "weather_df.createOrReplaceTempView('weather')\n"
      ],
      "execution_count": null,
      "outputs": []
    },
    {
      "cell_type": "code",
      "metadata": {
        "colab": {
          "base_uri": "https://localhost:8080/"
        },
        "id": "Q5u5BcjvgGVQ",
        "outputId": "a9ced2d2-cf61-4557-9b6f-a90d0baca411"
      },
      "source": [
        "covid_df.agg({'death': 'max'}).show()\n"
      ],
      "execution_count": null,
      "outputs": [
        {
          "output_type": "stream",
          "text": [
            "+----------+\n",
            "|max(death)|\n",
            "+----------+\n",
            "|      1030|\n",
            "+----------+\n",
            "\n"
          ],
          "name": "stdout"
        }
      ]
    },
    {
      "cell_type": "code",
      "metadata": {
        "colab": {
          "base_uri": "https://localhost:8080/"
        },
        "id": "WfhFlScuZu3i",
        "outputId": "49be4843-de30-4618-a064-af799eef2bf5"
      },
      "source": [
        "query_df = spark.sql(\"\"\"\n",
        "SELECT date, death, positive\n",
        "FROM covid\n",
        "WHERE death=1030;\n",
        "\"\"\").show()"
      ],
      "execution_count": null,
      "outputs": [
        {
          "output_type": "stream",
          "text": [
            "+----------+-----+--------+\n",
            "|      date|death|positive|\n",
            "+----------+-----+--------+\n",
            "|2021-03-06| 1030|   41273|\n",
            "|2021-03-07| 1030|   41419|\n",
            "+----------+-----+--------+\n",
            "\n"
          ],
          "name": "stdout"
        }
      ]
    },
    {
      "cell_type": "code",
      "metadata": {
        "colab": {
          "base_uri": "https://localhost:8080/"
        },
        "id": "kYJglEXdaBVB",
        "outputId": "8b52016d-a6e1-4eed-f01e-5640fe05eef0"
      },
      "source": [
        "query_df = spark.sql(\"\"\"\n",
        "SELECT date, death, positive\n",
        "FROM covid\n",
        "ORDER by death DESC;\n",
        "\"\"\").show()"
      ],
      "execution_count": null,
      "outputs": [
        {
          "output_type": "stream",
          "text": [
            "+----------+-----+--------+\n",
            "|      date|death|positive|\n",
            "+----------+-----+--------+\n",
            "|2021-03-06| 1030|   41273|\n",
            "|2021-03-07| 1030|   41419|\n",
            "|2021-03-05| 1027|   41122|\n",
            "|2021-03-04| 1024|   41014|\n",
            "|2021-03-03| 1023|   40818|\n",
            "|2021-03-01| 1019|   40684|\n",
            "|2021-03-02| 1019|   40767|\n",
            "|2021-02-28| 1017|   40598|\n",
            "|2021-02-27| 1010|   40478|\n",
            "|2021-02-26| 1009|   40284|\n",
            "|2021-02-25| 1005|   40122|\n",
            "|2021-02-24| 1001|   39943|\n",
            "|2021-02-23|  998|   39844|\n",
            "|2021-02-21|  995|   39648|\n",
            "|2021-02-22|  995|   39755|\n",
            "|2021-02-20|  994|   39553|\n",
            "|2021-02-19|  993|   39461|\n",
            "|2021-02-18|  992|   39301|\n",
            "|2021-02-17|  985|   39180|\n",
            "|2021-02-16|  982|   39131|\n",
            "+----------+-----+--------+\n",
            "only showing top 20 rows\n",
            "\n"
          ],
          "name": "stdout"
        }
      ]
    },
    {
      "cell_type": "code",
      "metadata": {
        "colab": {
          "base_uri": "https://localhost:8080/"
        },
        "id": "lGwjhdO4aPx6",
        "outputId": "51e1cf4c-e7fe-4163-f34b-59a801b6220c"
      },
      "source": [
        "query_df = spark.sql(\"\"\"\n",
        "SELECT date, death, positive\n",
        "FROM covid\n",
        "ORDER by positive DESC;\n",
        "\"\"\").show()"
      ],
      "execution_count": null,
      "outputs": [
        {
          "output_type": "stream",
          "text": [
            "+----------+-----+--------+\n",
            "|      date|death|positive|\n",
            "+----------+-----+--------+\n",
            "|2021-03-07| 1030|   41419|\n",
            "|2021-03-06| 1030|   41273|\n",
            "|2021-03-05| 1027|   41122|\n",
            "|2021-03-04| 1024|   41014|\n",
            "|2021-03-03| 1023|   40818|\n",
            "|2021-03-02| 1019|   40767|\n",
            "|2021-03-01| 1019|   40684|\n",
            "|2021-02-28| 1017|   40598|\n",
            "|2021-02-27| 1010|   40478|\n",
            "|2021-02-26| 1009|   40284|\n",
            "|2021-02-25| 1005|   40122|\n",
            "|2021-02-24| 1001|   39943|\n",
            "|2021-02-23|  998|   39844|\n",
            "|2021-02-22|  995|   39755|\n",
            "|2021-02-21|  995|   39648|\n",
            "|2021-02-20|  994|   39553|\n",
            "|2021-02-19|  993|   39461|\n",
            "|2021-02-18|  992|   39301|\n",
            "|2021-02-17|  985|   39180|\n",
            "|2021-02-16|  982|   39131|\n",
            "+----------+-----+--------+\n",
            "only showing top 20 rows\n",
            "\n"
          ],
          "name": "stdout"
        }
      ]
    },
    {
      "cell_type": "code",
      "metadata": {
        "colab": {
          "base_uri": "https://localhost:8080/"
        },
        "id": "nFVFmpXTaqdG",
        "outputId": "0a9784eb-8bea-4e61-c258-3ed524a1d926"
      },
      "source": [
        "\n",
        "query_df = spark.sql(\"\"\"\n",
        "SELECT s.station_id, s.station_name, t.ride_id, t.rideable_type\n",
        "FROM stations as s\n",
        "INNER JOIN trips as t \n",
        "ON s.station_id = t.start_station_id\n",
        "WHERE s.station_id =  31007\n",
        "LIMIT 10\n",
        ";\n",
        "\"\"\").show()\n"
      ],
      "execution_count": null,
      "outputs": [
        {
          "output_type": "stream",
          "text": [
            "+----------+--------------------+-------+-------------+\n",
            "|station_id|        station_name|ride_id|rideable_type|\n",
            "+----------+--------------------+-------+-------------+\n",
            "|     31007|Crystal City Metr...|   null|         null|\n",
            "|     31007|Crystal City Metr...|   null|         null|\n",
            "|     31007|Crystal City Metr...|   null|         null|\n",
            "|     31007|Crystal City Metr...|   null|         null|\n",
            "|     31007|Crystal City Metr...|   null|         null|\n",
            "|     31007|Crystal City Metr...|   null|         null|\n",
            "|     31007|Crystal City Metr...|   null|         null|\n",
            "|     31007|Crystal City Metr...|   null|         null|\n",
            "|     31007|Crystal City Metr...|   null|         null|\n",
            "|     31007|Crystal City Metr...|   null|         null|\n",
            "+----------+--------------------+-------+-------------+\n",
            "\n"
          ],
          "name": "stdout"
        }
      ]
    },
    {
      "cell_type": "code",
      "metadata": {
        "colab": {
          "base_uri": "https://localhost:8080/"
        },
        "id": "Wqhnxj9-ysEP",
        "outputId": "546c997b-a616-4a25-b498-cf04818cc157"
      },
      "source": [
        "query_df = spark.sql(\"\"\"\n",
        "SELECT s.station_id, s.station_name, t.ride_id, t.rideable_type, c.date, c.death\n",
        "FROM stations as s\n",
        "INNER JOIN trips as t \n",
        "ON s.station_id = t.start_station_id\n",
        "INNER JOIN covid as c \n",
        "ON t.start_date = c.date\n",
        "WHERE s.station_id =  31007 and c.death>0\n",
        "LIMIT 10\n",
        ";\n",
        "\"\"\").show()\n"
      ],
      "execution_count": null,
      "outputs": [
        {
          "output_type": "stream",
          "text": [
            "+----------+--------------------+-------+-------------+----------+-----+\n",
            "|station_id|        station_name|ride_id|rideable_type|      date|death|\n",
            "+----------+--------------------+-------+-------------+----------+-----+\n",
            "|     31007|Crystal City Metr...|   null|         null|2020-03-20|    1|\n",
            "|     31007|Crystal City Metr...|   null|         null|2020-03-20|    1|\n",
            "|     31007|Crystal City Metr...|   null|         null|2020-03-20|    1|\n",
            "|     31007|Crystal City Metr...|   null|         null|2020-03-20|    1|\n",
            "|     31007|Crystal City Metr...|   null|         null|2020-03-20|    1|\n",
            "|     31007|Crystal City Metr...|   null|         null|2020-03-21|    1|\n",
            "|     31007|Crystal City Metr...|   null|         null|2020-03-21|    1|\n",
            "|     31007|Crystal City Metr...|   null|         null|2020-03-21|    1|\n",
            "|     31007|Crystal City Metr...|   null|         null|2020-03-21|    1|\n",
            "|     31007|Crystal City Metr...|   null|         null|2020-03-21|    1|\n",
            "+----------+--------------------+-------+-------------+----------+-----+\n",
            "\n"
          ],
          "name": "stdout"
        }
      ]
    },
    {
      "cell_type": "code",
      "metadata": {
        "colab": {
          "base_uri": "https://localhost:8080/"
        },
        "id": "nGGEI6s7zFMw",
        "outputId": "a3f2ff6d-b11f-4ba5-98e1-9833e8bdf473"
      },
      "source": [
        "query_df = spark.sql(\"\"\"\n",
        "SELECT *\n",
        "FROM weather as t\n",
        "LIMIT 10\n",
        ";\n",
        "\"\"\").show()"
      ],
      "execution_count": null,
      "outputs": [
        {
          "output_type": "stream",
          "text": [
            "+---------+-----+----+----+----+----+----+-----+-----+-----+-----+-----+-----+-----+-----+-----+-----+-----+-----+-----+-----+-----+-----+-----+\n",
            "|     DATE| AWND|PRCP|SNOW|TAVG|TMAX|TMIN| WT01| WT02| WT03| WT04| WT05| WT06| WT08| WT09| WT11| WT13| WT14| WT15| WT16| WT17| WT18| WT21| WT22|\n",
            "+---------+-----+----+----+----+----+----+-----+-----+-----+-----+-----+-----+-----+-----+-----+-----+-----+-----+-----+-----+-----+-----+-----+\n",
            "| 4/1/2013|11.18| 0.0| 0.0|53.0|68.0|41.0|false|false|false|false|false|false|false|false|false|false|false|false|false|false|false|false|false|\n",
            "| 4/2/2013| 12.3| 0.0| 0.0|45.0|51.0|39.0|false|false|false|false|false|false|false|false|false|false|false|false|false|false|false|false|false|\n",
            "| 4/3/2013|11.41| 0.0| 0.0|44.0|54.0|33.0|false|false|false|false|false|false|false|false|false|false|false|false|false|false|false|false|false|\n",
            "| 4/4/2013| 6.71|0.14| 0.0|40.0|50.0|31.0| true|false|false|false|false|false|false|false|false|false|false|false|false|false|false|false|false|\n",
            "| 4/5/2013|11.18|0.12| 0.0|49.0|67.0|39.0| true|false|false|false|false|false|false|false|false|false|false|false|false|false|false|false|false|\n",
            "| 4/6/2013|  9.4| 0.0| 0.0|50.0|59.0|40.0|false|false|false|false|false|false|false|false|false|false|false|false|false|false|false|false|false|\n",
            "| 4/7/2013|13.42| 0.0| 0.0|53.0|71.0|42.0|false|false|false|false|false|false|false|false|false|false|false|false|false|false|false|false|false|\n",
            "| 4/8/2013|  8.5| 0.0| 0.0|65.0|80.0|53.0|false|false|false|false|false|false|false|false|false|false|false|false|false|false|false|false|false|\n",
            "| 4/9/2013| 9.17| 0.0| 0.0|72.0|86.0|60.0|false|false|false|false|false|false|false|false|false|false|false|false|false|false|false|false|false|\n",
            "|4/10/2013|10.96| 0.0| 0.0|76.0|91.0|63.0|false|false|false|false|false|false|false|false|false|false|false|false|false|false|false|false|false|\n",
            "+---------+-----+----+----+----+----+----+-----+-----+-----+-----+-----+-----+-----+-----+-----+-----+-----+-----+-----+-----+-----+-----+-----+\n",
            "\n"
          ],
          "name": "stdout"
        }
      ]
    },
    {
      "cell_type": "code",
      "metadata": {
        "colab": {
          "base_uri": "https://localhost:8080/"
        },
        "id": "Fcj84sWYv2SD",
        "outputId": "c006d540-c275-4394-a3e9-6fa3ddb80cd8"
      },
      "source": [
        "query_df = spark.sql(\"\"\"\n",
        "SELECT *\n",
        "FROM trips as t\n",
        "LIMIT 10\n",
        ";\n",
        "\"\"\").show()\n"
      ],
      "execution_count": null,
      "outputs": [
        {
          "output_type": "stream",
          "text": [
            "+-------+-------------+-------------------+-------------------+--------------+-------------+---+----------+----------------+\n",
            "|ride_id|rideable_type|         started_at|           ended_at|end_station_id|member_casual|tid|start_date|start_station_id|\n",
            "+-------+-------------+-------------------+-------------------+--------------+-------------+---+----------+----------------+\n",
            "|   null|         null|2011-01-01 02:45:06|2011-01-01 02:49:44|         31110|       Member| 76|2011-01-01|           31200|\n",
            "|   null|         null|2011-01-01 10:55:02|2011-01-01 12:34:14|         31201|       Casual|158|2011-01-01|           31200|\n",
            "|   null|         null|2011-01-01 11:19:59|2011-01-01 11:23:39|         31221|       Member|169|2011-01-01|           31200|\n",
            "|   null|         null|2011-01-01 11:34:00|2011-01-01 16:05:54|         31215|       Casual|186|2011-01-01|           31200|\n",
            "|   null|         null|2011-01-01 11:35:25|2011-01-01 16:07:31|         31215|       Casual|187|2011-01-01|           31200|\n",
            "|   null|         null|2011-01-01 12:46:36|2011-01-01 12:52:21|         31214|       Casual|273|2011-01-01|           31200|\n",
            "|   null|         null|2011-01-01 13:13:05|2011-01-01 13:26:23|         31222|       Member|323|2011-01-01|           31200|\n",
            "|   null|         null|2011-01-01 13:34:17|2011-01-01 15:25:27|         31201|       Casual|352|2011-01-01|           31200|\n",
            "|   null|         null|2011-01-01 13:34:27|2011-01-01 15:25:23|         31201|       Casual|353|2011-01-01|           31200|\n",
            "|   null|         null|2011-01-01 13:35:18|2011-01-01 15:25:31|         31201|       Casual|355|2011-01-01|           31200|\n",
            "+-------+-------------+-------------------+-------------------+--------------+-------------+---+----------+----------------+\n",
            "\n"
          ],
          "name": "stdout"
        }
      ]
    },
    {
      "cell_type": "code",
      "metadata": {
        "colab": {
          "base_uri": "https://localhost:8080/"
        },
        "id": "5gljCb3kgk5p",
        "outputId": "2c754a07-c4a4-424b-b681-42231db300dd"
      },
      "source": [
        "query_df = spark.sql(\"\"\"\n",
        "SELECT *\n",
        "FROM stations\n",
        "\"\"\").show()\n"
      ],
      "execution_count": null,
      "outputs": [
        {
          "output_type": "stream",
          "text": [
            "+----------+--------------------+\n",
            "|station_id|        station_name|\n",
            "+----------+--------------------+\n",
            "|     31007|Crystal City Metr...|\n",
            "|     31920|Washington-Libert...|\n",
            "|     31921|Westover Library ...|\n",
            "|     32600|George Mason High...|\n",
            "|     32601|State Theatre / P...|\n",
            "|     32602|N Oak St & W Broa...|\n",
            "|     31304|36th & Calvert St...|\n",
            "|     31305|Connecticut Ave &...|\n",
            "|     31306|39th & Calvert St...|\n",
            "|     31307|3000 Connecticut ...|\n",
            "|     32607|S Maple Ave & S W...|\n",
            "|     32608|Falls Church City...|\n",
            "|     32609|W Columbia St & N...|\n",
            "|     32900|Motivate BX Tech ...|\n",
            "|     31022|Clarendon Metro /...|\n",
            "|     31023|Fairfax Dr & Wils...|\n",
            "|     31024|Virginia Square M...|\n",
            "|     31066|Columbia Pike & S...|\n",
            "|     31067|Columbia Pike & S...|\n",
            "|     31068|Columbia Pike & S...|\n",
            "+----------+--------------------+\n",
            "only showing top 20 rows\n",
            "\n"
          ],
          "name": "stdout"
        }
      ]
    },
    {
      "cell_type": "code",
      "metadata": {
        "id": "C8jCYbkmkGrY"
      },
      "source": [
        ""
      ],
      "execution_count": null,
      "outputs": []
    }
  ]
}